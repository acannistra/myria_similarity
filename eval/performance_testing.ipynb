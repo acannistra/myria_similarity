{
 "cells": [
  {
   "cell_type": "code",
   "execution_count": 1,
   "metadata": {
    "collapsed": true
   },
   "outputs": [],
   "source": [
    "import numpy as np\n",
    "from sklearn.metrics import classification_report, confusion_matrix\n",
    "import matplotlib.pyplot as plt\n",
    "import seaborn as sns\n",
    "%matplotlib inline "
   ]
  },
  {
   "cell_type": "code",
   "execution_count": 2,
   "metadata": {
    "collapsed": false
   },
   "outputs": [],
   "source": [
    "# If you want to threshold: specify a t\n",
    "# If recordid indexing is not 0-based: specify indexing (e.g. 1 for 1-based indexing)\n",
    "def pairs_to_matrix(pair_array, nrecords, t=None, indexing=0):\n",
    "    m = np.zeros((nrecords, nrecords))\n",
    "    for row in pair_array:\n",
    "        if row[0] < row[1]:\n",
    "            idx = (int(row[0]) - indexing, int(row[1]) - indexing)\n",
    "        else:\n",
    "            idx = (int(row[1]) - indexing, int(row[0]) - indexing)\n",
    "            \n",
    "        is_similar = False\n",
    "        if t is not None:\n",
    "            is_similar = row[2] > t\n",
    "        else:\n",
    "            is_similar = bool(row[2])\n",
    "            m[idx[0], idx[1]] = bool(row[2])\n",
    "            \n",
    "        m[idx[0], idx[1]] = is_similar\n",
    "        m[idx[1], idx[0]] = is_similar\n",
    "    return m\n",
    "              "
   ]
  },
  {
   "cell_type": "code",
   "execution_count": 3,
   "metadata": {
    "collapsed": true
   },
   "outputs": [],
   "source": [
    "def jaccard_similarity(A, B):\n",
    "    A = set(A)\n",
    "    B = set(B)\n",
    "    n = len(A.intersection(B))\n",
    "    return n / float(len(A) + len(B) - n) \n",
    "\n",
    "def jaccard_for_pairs(records):\n",
    "    sims = []\n",
    "    n_records = len(records)\n",
    "    for i,rec_i in enumerate(records):\n",
    "        for j,rec_j in enumerate(records):\n",
    "            if i<j:\n",
    "                sims.append([i, j, jaccard_similarity(rec_i, rec_j)])\n",
    "#                 sims[(i,j)] = jaccard_similarity(rec_i, rec_j)\n",
    "    return np.array(sims)"
   ]
  },
  {
   "cell_type": "markdown",
   "metadata": {},
   "source": [
    "# Evaluating synthetic test data\n",
    "\n",
    "## No classes -- all random data\n",
    "\n",
    "Took 1.760553s to run -- verify this"
   ]
  },
  {
   "cell_type": "code",
   "execution_count": 4,
   "metadata": {
    "collapsed": false
   },
   "outputs": [
    {
     "name": "stderr",
     "output_type": "stream",
     "text": [
      "/homes/gws/kdorosch/software/anaconda2/lib/python2.7/site-packages/sklearn/metrics/classification.py:1076: UndefinedMetricWarning: Recall and F-score are ill-defined and being set to 0.0 in labels with no true samples.\n",
      "  'recall', 'true', average, warn_for)\n"
     ]
    },
    {
     "name": "stdout",
     "output_type": "stream",
     "text": [
      "This should ideally predict that exactly 0 pairs are similar, but in reality we have some false positives.\n",
      "             precision    recall  f1-score   support\n",
      "\n",
      "        0.0       1.00      0.93      0.96   1000000\n",
      "        1.0       0.00      0.00      0.00         0\n",
      "\n",
      "avg / total       1.00      0.93      0.96   1000000\n",
      "\n",
      "[[930144  69856]\n",
      " [     0      0]]\n"
     ]
    }
   ],
   "source": [
    "# No classes -- all random data\n",
    "with open(\"../data/noclass_random_data.txt\") as f:\n",
    "    records = f.readlines()\n",
    "records = [x.split(\"\\t\")[1].strip() for x in records]\n",
    "\n",
    "bf_jaccard = jaccard_for_pairs(records)\n",
    "mhlsh_jaccard = np.loadtxt(\"../results/noclass_random_candidates.txt\", delimiter=\"\\t\", skiprows=1)\n",
    "\n",
    "nrecords = 1000\n",
    "t = 0.8\n",
    "\n",
    "bf_mat = pairs_to_matrix(bf_jaccard, nrecords, t=t)\n",
    "mhlsh_mat = pairs_to_matrix(mhlsh_jaccard, nrecords, indexing=1)\n",
    "\n",
    "y_true = bf_mat.flatten()\n",
    "y_pred = mhlsh_mat.flatten()\n",
    "\n",
    "class_results = classification_report(y_true, y_pred)\n",
    "confusion = confusion_matrix(y_true, y_pred)\n",
    "norm_confusion = confusion/nrecords**2.\n",
    "\n",
    "print \"This should ideally predict that exactly 0 pairs are similar, but in reality we have some false positives.\"\n",
    "print class_results\n",
    "print confusion"
   ]
  },
  {
   "cell_type": "code",
   "execution_count": 5,
   "metadata": {
    "collapsed": false
   },
   "outputs": [
    {
     "data": {
      "image/png": "[encoded data removed]",
      "text/plain": [
       "<matplotlib.figure.Figure at 0x7f5ab98fdc10>"
      ]
     },
     "metadata": {},
     "output_type": "display_data"
    }
   ],
   "source": [
    "fig, ax = plt.subplots(figsize=(2,2))\n",
    "ax = sns.heatmap(norm_confusion, cbar=False, annot=True, \n",
    "                 xticklabels=[\"not similar\", \"similar\"], \n",
    "                 yticklabels=[\"not similar\", \"similar\"], \n",
    "                 ax=ax,\n",
    "                 square=True)\n",
    "ax.xaxis.tick_top()\n",
    "ax.set_title(\"Random strings of length 5\\n(no similarity expected)\", fontsize=14, y=1.35)\n",
    "ax.text(0.55, 2.4, \"Predicted\", fontsize=12)\n",
    "ax.text(-0.9, 1, \"True\", fontsize=12)\n",
    "fig.savefig(\"../plots/confusion_synth_random.png\", dpi=300, bbox_inches='tight')\n",
    "\n",
    "plt.show()"
   ]
  },
  {
   "cell_type": "markdown",
   "metadata": {},
   "source": [
    "## One class, and the rest is random data\n",
    "\n",
    "Took 24.717346s to run."
   ]
  },
  {
   "cell_type": "code",
   "execution_count": 6,
   "metadata": {
    "collapsed": false
   },
   "outputs": [
    {
     "name": "stdout",
     "output_type": "stream",
     "text": [
      "This should predict that 1/4 the pairs are similar. \n",
      "             precision    recall  f1-score   support\n",
      "\n",
      "        0.0       1.00      0.93      0.96    750500\n",
      "        1.0       0.82      1.00      0.90    249500\n",
      "\n",
      "avg / total       0.95      0.94      0.95   1000000\n",
      "\n",
      "[[696402  54098]\n",
      " [   998 248502]]\n",
      "[[ 0.696402  0.054098]\n",
      " [ 0.000998  0.248502]]\n"
     ]
    }
   ],
   "source": [
    "# One class, and the rest is random data\n",
    "with open(\"../data/oneclass_random_data.txt\") as f:\n",
    "    records = f.readlines()\n",
    "records = [x.split(\"\\t\")[1].strip() for x in records]\n",
    "\n",
    "bf_jaccard = jaccard_for_pairs(records)\n",
    "mhlsh_jaccard = np.loadtxt(\"../results/oneclass_random_candidates.txt\", delimiter=\"\\t\", skiprows=1)\n",
    "\n",
    "nrecords = 1000\n",
    "t = 0.8\n",
    "\n",
    "bf_mat = pairs_to_matrix(bf_jaccard, nrecords, t=t)\n",
    "mhlsh_mat = pairs_to_matrix(mhlsh_jaccard, nrecords, indexing=1)\n",
    "\n",
    "y_true = bf_mat.flatten()\n",
    "y_pred = mhlsh_mat.flatten()\n",
    "\n",
    "class_results = classification_report(y_true, y_pred)\n",
    "confusion = confusion_matrix(y_true, y_pred)\n",
    "norm_confusion = confusion/nrecords**2.\n",
    "print \"This should predict that 1/4 the pairs are similar. \"\n",
    "print class_results\n",
    "print confusion\n",
    "print norm_confusion"
   ]
  },
  {
   "cell_type": "code",
   "execution_count": 7,
   "metadata": {
    "collapsed": false
   },
   "outputs": [
    {
     "data": {
      "image/png": "[encoded data removed]",
      "text/plain": [
       "<matplotlib.figure.Figure at 0x7f5ab9900590>"
      ]
     },
     "metadata": {},
     "output_type": "display_data"
    }
   ],
   "source": [
    "fig, ax = plt.subplots(figsize=(2,2))\n",
    "ax = sns.heatmap(norm_confusion, cbar=False, annot=True, \n",
    "                 xticklabels=[\"not similar\", \"similar\"], \n",
    "                 yticklabels=[\"not similar\", \"similar\"], \n",
    "                 ax=ax,\n",
    "                 square=True)\n",
    "ax.xaxis.tick_top()\n",
    "ax.set_title(\"Half known data, half random\\n(25% of pairs similar)\", fontsize=14, y=1.35)\n",
    "ax.text(0.55, 2.4, \"Predicted\", fontsize=12)\n",
    "ax.text(-0.9, 1, \"True\", fontsize=12)\n",
    "fig.savefig(\"../plots/confusion_synth_oneclass_random.png\", dpi=300, bbox_inches='tight')\n",
    "\n",
    "plt.show()"
   ]
  },
  {
   "cell_type": "markdown",
   "metadata": {},
   "source": [
    "## Two classes, both are known\n",
    "\n",
    "Took 24.256424s to run"
   ]
  },
  {
   "cell_type": "code",
   "execution_count": 8,
   "metadata": {
    "collapsed": false
   },
   "outputs": [
    {
     "name": "stdout",
     "output_type": "stream",
     "text": [
      "This should predict that half the pairs are similar. \n",
      "             precision    recall  f1-score   support\n",
      "\n",
      "        0.0       1.00      0.99      1.00    501000\n",
      "        1.0       0.99      1.00      1.00    499000\n",
      "\n",
      "avg / total       1.00      1.00      1.00   1000000\n",
      "\n",
      "[[498004   2996]\n",
      " [  1996 497004]]\n",
      "[[ 0.498004  0.002996]\n",
      " [ 0.001996  0.497004]]\n"
     ]
    }
   ],
   "source": [
    "# Two classes, both are known\n",
    "with open(\"../data/twoclass_data.txt\") as f:\n",
    "    records = f.readlines()\n",
    "records = [x.split(\"\\t\")[1].strip() for x in records]\n",
    "\n",
    "bf_jaccard = jaccard_for_pairs(records)\n",
    "mhlsh_jaccard = np.loadtxt(\"../results/twoclass_candidates.txt\", delimiter=\"\\t\", skiprows=1)\n",
    "\n",
    "nrecords = 1000\n",
    "t = 0.8\n",
    "\n",
    "bf_mat = pairs_to_matrix(bf_jaccard, nrecords, t=t)\n",
    "mhlsh_mat = pairs_to_matrix(mhlsh_jaccard, nrecords, indexing=1)\n",
    "\n",
    "y_true = bf_mat.flatten()\n",
    "y_pred = mhlsh_mat.flatten()\n",
    "\n",
    "class_results = classification_report(y_true, y_pred)\n",
    "confusion = confusion_matrix(y_true, y_pred)\n",
    "norm_confusion = confusion/nrecords**2.\n",
    "print \"This should predict that half the pairs are similar. \"\n",
    "print class_results\n",
    "print confusion\n",
    "print norm_confusion"
   ]
  },
  {
   "cell_type": "code",
   "execution_count": 9,
   "metadata": {
    "collapsed": false
   },
   "outputs": [
    {
     "data": {
      "image/png": "[encoded data removed]",
      "text/plain": [
       "<matplotlib.figure.Figure at 0x7f5ab298e9d0>"
      ]
     },
     "metadata": {},
     "output_type": "display_data"
    }
   ],
   "source": [
    "fig, ax = plt.subplots(figsize=(2,2))\n",
    "ax = sns.heatmap(norm_confusion, cbar=False, annot=True, \n",
    "                 xticklabels=[\"not similar\", \"similar\"], \n",
    "                 yticklabels=[\"not similar\", \"similar\"], \n",
    "                 ax=ax,\n",
    "                 square=True)\n",
    "ax.xaxis.tick_top()\n",
    "ax.set_title(\"Two known, equal-sized classes\\n(50% of pairs similar)\", fontsize=14, y=1.35)\n",
    "ax.text(0.55, 2.4, \"Predicted\", fontsize=12)\n",
    "ax.text(-0.9, 1, \"True\", fontsize=12)\n",
    "fig.savefig(\"../plots/confusion_synth_twoclass.png\", dpi=300, bbox_inches='tight')\n",
    "plt.show()"
   ]
  },
  {
   "cell_type": "markdown",
   "metadata": {},
   "source": [
    "# Checking the cora titles data\n",
    "\n",
    "## h = 90, m=9, k=10, b=?"
   ]
  },
  {
   "cell_type": "code",
   "execution_count": 10,
   "metadata": {
    "collapsed": false
   },
   "outputs": [
    {
     "name": "stdout",
     "output_type": "stream",
     "text": [
      "This should predict ???\n",
      "             precision    recall  f1-score   support\n",
      "\n",
      "        0.0       1.00      0.54      0.70   1638564\n",
      "        1.0       0.05      0.99      0.09     38461\n",
      "\n",
      "avg / total       0.98      0.55      0.69   1677025\n",
      "\n",
      "[[890142 748422]\n",
      " [   260  38201]]\n",
      "[[  5.30786363e-01   4.46279572e-01]\n",
      " [  1.55036448e-04   2.27790283e-02]]\n"
     ]
    }
   ],
   "source": [
    "# Checking the cora titles data -- little faith in this\n",
    "\n",
    "# cora_titles_jaccard = np.loadtxt(\"../results/cora_titles_jaccardbf.txt\", delimiter=\"\\t\")\n",
    "# cora_titles_mhlsh = np.loadtxt(\"../results/cora_titles_minhash-lsh-90.txt\", delimiter=\"\\t\", skiprows=1)\n",
    "\n",
    "bf_jaccard = np.loadtxt(\"../results/cora_titles_jaccardbf.txt\", delimiter=\"\\t\")\n",
    "mhlsh_jaccard = np.loadtxt(\"../results/cora_titles_minhash-lsh-90.txt\", delimiter=\"\\t\", skiprows=1)\n",
    "\n",
    "nrecords = 1295\n",
    "t = 0.8\n",
    "\n",
    "bf_mat = pairs_to_matrix(bf_jaccard, nrecords, t=t)\n",
    "mhlsh_mat = pairs_to_matrix(mhlsh_jaccard, nrecords, indexing=1)\n",
    "\n",
    "y_true = bf_mat.flatten()\n",
    "y_pred = mhlsh_mat.flatten()\n",
    "\n",
    "class_results = classification_report(y_true, y_pred)\n",
    "confusion = confusion_matrix(y_true, y_pred)\n",
    "norm_confusion = confusion/nrecords**2.\n",
    "print \"This should predict ???\"\n",
    "print class_results\n",
    "print confusion\n",
    "print norm_confusion"
   ]
  },
  {
   "cell_type": "code",
   "execution_count": 11,
   "metadata": {
    "collapsed": false
   },
   "outputs": [
    {
     "data": {
      "image/png": "[encoded data removed]",
      "text/plain": [
       "<matplotlib.figure.Figure at 0x7f5ab8fe2550>"
      ]
     },
     "metadata": {},
     "output_type": "display_data"
    }
   ],
   "source": [
    "fig, ax = plt.subplots(figsize=(2,2))\n",
    "ax = sns.heatmap(norm_confusion, cbar=False, annot=True, \n",
    "                 xticklabels=[\"not similar\", \"similar\"], \n",
    "                 yticklabels=[\"not similar\", \"similar\"], \n",
    "                 ax=ax,\n",
    "                 square=True)\n",
    "ax.xaxis.tick_top()\n",
    "ax.set_title(\"Cora Titles\\nh=90, m=9, k=10, b=1009\", fontsize=14, y=1.35)\n",
    "ax.text(0.55, 2.4, \"Predicted\", fontsize=12)\n",
    "ax.text(-0.9, 1, \"True\", fontsize=12)\n",
    "fig.savefig(\"../plots/confusion_cora_titles_m9b1009.png\", dpi=300, bbox_inches='tight')\n",
    "\n",
    "plt.show()"
   ]
  },
  {
   "cell_type": "markdown",
   "metadata": {},
   "source": [
    "## Increasing lsh bins: b=5461\n",
    "\n",
    "Took 4m 33.957273s to run."
   ]
  },
  {
   "cell_type": "code",
   "execution_count": 12,
   "metadata": {
    "collapsed": false
   },
   "outputs": [
    {
     "name": "stdout",
     "output_type": "stream",
     "text": [
      "This should predict fewer false positives than when we had fewer bins\n",
      "             precision    recall  f1-score   support\n",
      "\n",
      "        0.0       1.00      0.66      0.79   1638564\n",
      "        1.0       0.06      0.99      0.12     38461\n",
      "\n",
      "avg / total       0.98      0.67      0.78   1677025\n",
      "\n",
      "[[1079878  558686]\n",
      " [    260   38201]]\n",
      "[[  6.43924807e-01   3.33141128e-01]\n",
      " [  1.55036448e-04   2.27790283e-02]]\n"
     ]
    }
   ],
   "source": [
    "# Cora titles -- this time with more bins in the lsh (5461, which is prime)\n",
    "\n",
    "bf_jaccard = np.loadtxt(\"../results/cora_titles_jaccardbf.txt\", delimiter=\"\\t\")\n",
    "mhlsh_jaccard = np.loadtxt(\"../results/cora_titles-5641bins.txt\", delimiter=\"\\t\", skiprows=1)\n",
    "\n",
    "nrecords = 1295\n",
    "t = 0.8\n",
    "\n",
    "bf_mat = pairs_to_matrix(bf_jaccard, nrecords, t=t)\n",
    "mhlsh_mat = pairs_to_matrix(mhlsh_jaccard, nrecords, indexing=1)\n",
    "\n",
    "y_true = bf_mat.flatten()\n",
    "y_pred = mhlsh_mat.flatten()\n",
    "\n",
    "class_results = classification_report(y_true, y_pred)\n",
    "confusion = confusion_matrix(y_true, y_pred)\n",
    "norm_confusion = confusion/nrecords**2.\n",
    "print \"This should predict fewer false positives than when we had fewer bins\"\n",
    "print class_results\n",
    "print confusion\n",
    "print norm_confusion"
   ]
  },
  {
   "cell_type": "code",
   "execution_count": 13,
   "metadata": {
    "collapsed": false
   },
   "outputs": [
    {
     "data": {
      "image/png": "[encoded data removed]",
      "text/plain": [
       "<matplotlib.figure.Figure at 0x7f5ab8f665d0>"
      ]
     },
     "metadata": {},
     "output_type": "display_data"
    }
   ],
   "source": [
    "fig, ax = plt.subplots(figsize=(2,2))\n",
    "ax = sns.heatmap(norm_confusion, cbar=False, annot=True, \n",
    "                 xticklabels=[\"not similar\", \"similar\"], \n",
    "                 yticklabels=[\"not similar\", \"similar\"], \n",
    "                 ax=ax,\n",
    "                 square=True)\n",
    "ax.xaxis.tick_top()\n",
    "ax.set_title(\"Cora Titles\\nh=90, m=9, k=10, b=5461\", fontsize=14, y=1.35)\n",
    "ax.text(0.55, 2.4, \"Predicted\", fontsize=12)\n",
    "ax.text(-0.9, 1, \"True\", fontsize=12)\n",
    "fig.savefig(\"../plots/confusion_cora_titles_m9b5461.png\", dpi=300, bbox_inches='tight')\n",
    "\n",
    "plt.show()"
   ]
  },
  {
   "cell_type": "markdown",
   "metadata": {},
   "source": [
    "## Testing the effect of very few bins b={10, 11, 7, 17}\n",
    "\n",
    "Took 4 m 41 s to run"
   ]
  },
  {
   "cell_type": "code",
   "execution_count": 14,
   "metadata": {
    "collapsed": false
   },
   "outputs": [
    {
     "name": "stderr",
     "output_type": "stream",
     "text": [
      "/homes/gws/kdorosch/software/anaconda2/lib/python2.7/site-packages/sklearn/metrics/classification.py:1074: UndefinedMetricWarning: Precision and F-score are ill-defined and being set to 0.0 in labels with no predicted samples.\n",
      "  'precision', 'predicted', average, warn_for)\n"
     ]
    },
    {
     "name": "stdout",
     "output_type": "stream",
     "text": [
      "This should predict almost everything as a false positive\n",
      "             precision    recall  f1-score   support\n",
      "\n",
      "        0.0       0.00      0.00      0.00   1638564\n",
      "        1.0       0.02      1.00      0.04     38461\n",
      "\n",
      "avg / total       0.00      0.02      0.00   1677025\n",
      "\n",
      "[[      0 1638564]\n",
      " [      0   38461]]\n",
      "[[ 0.          0.97706594]\n",
      " [ 0.          0.02293406]]\n"
     ]
    },
    {
     "data": {
      "image/png": "[encoded data removed]",
      "text/plain": [
       "<matplotlib.figure.Figure at 0x7f5ab8f64250>"
      ]
     },
     "metadata": {},
     "output_type": "display_data"
    }
   ],
   "source": [
    "# Cora titles -- only 10 bins\n",
    "\n",
    "bf_jaccard = np.loadtxt(\"../results/cora_titles_jaccardbf.txt\", delimiter=\"\\t\")\n",
    "mhlsh_jaccard = np.loadtxt(\"../results/cora_titles_minhash-lsh-10bins.txt\", delimiter=\"\\t\", skiprows=1)\n",
    "\n",
    "nrecords = 1295\n",
    "t = 0.8\n",
    "\n",
    "bf_mat = pairs_to_matrix(bf_jaccard, nrecords, t=t)\n",
    "mhlsh_mat = pairs_to_matrix(mhlsh_jaccard, nrecords, indexing=1)\n",
    "\n",
    "y_true = bf_mat.flatten()\n",
    "y_pred = mhlsh_mat.flatten()\n",
    "\n",
    "class_results = classification_report(y_true, y_pred)\n",
    "confusion = confusion_matrix(y_true, y_pred)\n",
    "norm_confusion = confusion/nrecords**2.\n",
    "print \"This should predict almost everything as a false positive\"\n",
    "print class_results\n",
    "print confusion\n",
    "print norm_confusion\n",
    "fig, ax = plt.subplots(4)\n",
    "ax[0] = sns.heatmap(norm_confusion, cbar=False, annot=True, xticklabels=[\"Not similar\", \"similar\"], yticklabels=[\"Not sim\", \"sim\"], ax=ax[0])\n",
    "\n",
    "\n",
    "## 11 bins second trial\n",
    "\n",
    "\n",
    "bf_jaccard = np.loadtxt(\"../results/cora_titles_jaccardbf.txt\", delimiter=\"\\t\")\n",
    "mhlsh_jaccard = np.loadtxt(\"../results/cora_titles_minhash-lsh-m9b11.txt\", delimiter=\"\\t\", skiprows=1)\n",
    "\n",
    "nrecords = 1295\n",
    "t = 0.8\n",
    "\n",
    "bf_mat = pairs_to_matrix(bf_jaccard, nrecords, t=t)\n",
    "mhlsh_mat = pairs_to_matrix(mhlsh_jaccard, nrecords, indexing=1)\n",
    "\n",
    "y_true = bf_mat.flatten()\n",
    "y_pred = mhlsh_mat.flatten()\n",
    "\n",
    "class_results = classification_report(y_true, y_pred)\n",
    "confusion = confusion_matrix(y_true, y_pred)\n",
    "norm_confusion = confusion/nrecords**2.\n",
    "ax[1] = sns.heatmap(norm_confusion, cbar=False, annot=True, xticklabels=[\"Not similar\", \"similar\"], yticklabels=[\"Not sim\", \"sim\"], ax=ax[1])\n",
    "\n",
    "\n",
    "# 7 bins\n",
    "\n",
    "bf_jaccard = np.loadtxt(\"../results/cora_titles_jaccardbf.txt\", delimiter=\"\\t\")\n",
    "mhlsh_jaccard = np.loadtxt(\"../results/cora_titles_minhash-lsh-m9b7.txt\", delimiter=\"\\t\", skiprows=1)\n",
    "\n",
    "nrecords = 1295\n",
    "t = 0.8\n",
    "\n",
    "bf_mat = pairs_to_matrix(bf_jaccard, nrecords, t=t)\n",
    "mhlsh_mat = pairs_to_matrix(mhlsh_jaccard, nrecords, indexing=1)\n",
    "\n",
    "y_true = bf_mat.flatten()\n",
    "y_pred = mhlsh_mat.flatten()\n",
    "\n",
    "class_results = classification_report(y_true, y_pred)\n",
    "confusion = confusion_matrix(y_true, y_pred)\n",
    "norm_confusion = confusion/nrecords**2.\n",
    "ax[2] = sns.heatmap(norm_confusion, cbar=False, annot=True, xticklabels=[\"Not similar\", \"similar\"], yticklabels=[\"Not sim\", \"sim\"], ax=ax[2])\n",
    "\n",
    "\n",
    "\n",
    "# ### 17 bins\n",
    "\n",
    "# bf_jaccard = np.loadtxt(\"../results/cora_titles_jaccardbf.txt\", delimiter=\"\\t\")\n",
    "# mhlsh_jaccard = np.loadtxt(\"../results/cora_titles_minhash-lsh-m9b17.txt\", delimiter=\"\\t\", skiprows=1)\n",
    "\n",
    "# nrecords = 1295\n",
    "# t = 0.8\n",
    "\n",
    "# bf_mat = pairs_to_matrix(bf_jaccard, nrecords, t=t)\n",
    "# mhlsh_mat = pairs_to_matrix(mhlsh_jaccard, nrecords, indexing=1)\n",
    "\n",
    "# y_true = bf_mat.flatten()\n",
    "# y_pred = mhlsh_mat.flatten()\n",
    "\n",
    "# class_results = classification_report(y_true, y_pred)\n",
    "# confusion = confusion_matrix(y_true, y_pred)\n",
    "# norm_confusion = confusion/nrecords**2.\n",
    "# ax[3] = sns.heatmap(norm_confusion, cbar=False, annot=True, xticklabels=[\"Not similar\", \"similar\"], yticklabels=[\"Not sim\", \"sim\"], ax=ax[3])\n",
    "\n",
    "\n",
    "# plt.show()"
   ]
  },
  {
   "cell_type": "code",
   "execution_count": 15,
   "metadata": {
    "collapsed": false
   },
   "outputs": [
    {
     "data": {
      "image/png": "[encoded data removed]",
      "text/plain": [
       "<matplotlib.figure.Figure at 0x7f5ab76f5890>"
      ]
     },
     "metadata": {},
     "output_type": "display_data"
    }
   ],
   "source": [
    "fig, ax = plt.subplots(figsize=(2,2))\n",
    "ax = sns.heatmap(norm_confusion, cbar=False, annot=True, \n",
    "                 xticklabels=[\"not similar\", \"similar\"], \n",
    "                 yticklabels=[\"not similar\", \"similar\"], \n",
    "                 ax=ax,\n",
    "                 square=True)\n",
    "ax.xaxis.tick_top()\n",
    "ax.set_title(\"Cora Titles\\nh=90, m=9, k=10, b=17\", fontsize=14, y=1.35)\n",
    "ax.text(0.55, 2.4, \"Predicted\", fontsize=12)\n",
    "ax.text(-0.9, 1, \"True\", fontsize=12)\n",
    "fig.savefig(\"../plots/confusion_cora_titles_m9b17.png\", dpi=300, bbox_inches='tight')\n",
    "\n",
    "plt.show()"
   ]
  },
  {
   "cell_type": "markdown",
   "metadata": {},
   "source": [
    "## Further increasing LSH bins while holding else constant b=8423\n",
    "\n",
    "Took 5m 23.638746s to run"
   ]
  },
  {
   "cell_type": "code",
   "execution_count": 16,
   "metadata": {
    "collapsed": false
   },
   "outputs": [
    {
     "name": "stdout",
     "output_type": "stream",
     "text": [
      "This should predict ???\n",
      "             precision    recall  f1-score   support\n",
      "\n",
      "        0.0       1.00      0.66      0.79   1638564\n",
      "        1.0       0.06      0.99      0.12     38461\n",
      "\n",
      "avg / total       0.98      0.67      0.78   1677025\n",
      "\n",
      "[[1079598  558966]\n",
      " [    260   38201]]\n",
      "[[  6.43757845e-01   3.33308090e-01]\n",
      " [  1.55036448e-04   2.27790283e-02]]\n"
     ]
    }
   ],
   "source": [
    "# Cora titles -- EVEN MORE BINS (8423)\n",
    "\n",
    "bf_jaccard = np.loadtxt(\"../results/cora_titles_jaccardbf.txt\", delimiter=\"\\t\")\n",
    "mhlsh_jaccard = np.loadtxt(\"../results/cora_titles-8423bins.txt\", delimiter=\"\\t\", skiprows=1)\n",
    "\n",
    "nrecords = 1295\n",
    "t = 0.8\n",
    "\n",
    "bf_mat = pairs_to_matrix(bf_jaccard, nrecords, t=t)\n",
    "mhlsh_mat = pairs_to_matrix(mhlsh_jaccard, nrecords, indexing=1)\n",
    "\n",
    "y_true = bf_mat.flatten()\n",
    "y_pred = mhlsh_mat.flatten()\n",
    "\n",
    "class_results = classification_report(y_true, y_pred)\n",
    "confusion = confusion_matrix(y_true, y_pred)\n",
    "norm_confusion = confusion/nrecords**2.\n",
    "print \"This should predict ???\"\n",
    "print class_results\n",
    "print confusion\n",
    "print norm_confusion"
   ]
  },
  {
   "cell_type": "code",
   "execution_count": 17,
   "metadata": {
    "collapsed": false
   },
   "outputs": [
    {
     "data": {
      "image/png": "[encoded data removed]",
      "text/plain": [
       "<matplotlib.figure.Figure at 0x7f5ab76f5850>"
      ]
     },
     "metadata": {},
     "output_type": "display_data"
    }
   ],
   "source": [
    "fig, ax = plt.subplots(figsize=(2,2))\n",
    "ax = sns.heatmap(norm_confusion, cbar=False, annot=True, \n",
    "                 xticklabels=[\"not similar\", \"similar\"], \n",
    "                 yticklabels=[\"not similar\", \"similar\"], \n",
    "                 ax=ax,\n",
    "                 square=True)\n",
    "ax.xaxis.tick_top()\n",
    "ax.set_title(\"Cora Titles\\nh=90, m=9, k=10, b=8423\", fontsize=14, y=1.35)\n",
    "ax.text(0.55, 2.4, \"Predicted\", fontsize=12)\n",
    "ax.text(-0.9, 1, \"True\", fontsize=12)\n",
    "fig.savefig(\"../plots/confusion_cora_titles_m9b8423.png\", dpi=300, bbox_inches='tight')\n",
    "\n",
    "plt.show()"
   ]
  },
  {
   "cell_type": "markdown",
   "metadata": {},
   "source": [
    "# Cora titles -- testing effect of minhash functions\n",
    "\n",
    "## m=23 h=322 k=14 b=1009"
   ]
  },
  {
   "cell_type": "code",
   "execution_count": 18,
   "metadata": {
    "collapsed": false
   },
   "outputs": [
    {
     "name": "stdout",
     "output_type": "stream",
     "text": [
      "This should predict ???\n",
      "             precision    recall  f1-score   support\n",
      "\n",
      "        0.0       1.00      0.47      0.64   1638564\n",
      "        1.0       0.04      0.99      0.08     38461\n",
      "\n",
      "avg / total       0.98      0.48      0.63   1677025\n",
      "\n",
      "[[767842 870722]\n",
      " [   260  38201]]\n",
      "[[  4.57859603e-01   5.19206333e-01]\n",
      " [  1.55036448e-04   2.27790283e-02]]\n"
     ]
    }
   ],
   "source": [
    "# Cora titles -- more minhash fns: m=23 h=322 k=14 b=1009\n",
    "\n",
    "bf_jaccard = np.loadtxt(\"../results/cora_titles_jaccardbf.txt\", delimiter=\"\\t\")\n",
    "mhlsh_jaccard = np.loadtxt(\"../results/cora_titles_minhash-lsh-m23b1009.txt\", delimiter=\"\\t\", skiprows=1)\n",
    "\n",
    "nrecords = 1295\n",
    "t = 0.8\n",
    "\n",
    "bf_mat = pairs_to_matrix(bf_jaccard, nrecords, t=t)\n",
    "mhlsh_mat = pairs_to_matrix(mhlsh_jaccard, nrecords, indexing=1)\n",
    "\n",
    "y_true = bf_mat.flatten()\n",
    "y_pred = mhlsh_mat.flatten()\n",
    "\n",
    "class_results = classification_report(y_true, y_pred)\n",
    "confusion = confusion_matrix(y_true, y_pred)\n",
    "norm_confusion = confusion/nrecords**2.\n",
    "print \"This should predict ???\"\n",
    "print class_results\n",
    "print confusion\n",
    "print norm_confusion"
   ]
  },
  {
   "cell_type": "code",
   "execution_count": 19,
   "metadata": {
    "collapsed": false
   },
   "outputs": [
    {
     "data": {
      "image/png": "[encoded data removed]",
      "text/plain": [
       "<matplotlib.figure.Figure at 0x7f5ab260c410>"
      ]
     },
     "metadata": {},
     "output_type": "display_data"
    }
   ],
   "source": [
    "fig, ax = plt.subplots(figsize=(2,2))\n",
    "ax = sns.heatmap(norm_confusion, cbar=False, annot=True, \n",
    "                 xticklabels=[\"not similar\", \"similar\"], \n",
    "                 yticklabels=[\"not similar\", \"similar\"], \n",
    "                 ax=ax,\n",
    "                 square=True)\n",
    "ax.xaxis.tick_top()\n",
    "ax.set_title(\"Cora Titles\\nh=322, m=23, k=14, b=1009\", fontsize=14, y=1.35)\n",
    "ax.text(0.55, 2.4, \"Predicted\", fontsize=12)\n",
    "ax.text(-0.9, 1, \"True\", fontsize=12)\n",
    "fig.savefig(\"../plots/confusion_cora_titles_m23b1009.png\", dpi=300, bbox_inches='tight')\n",
    "\n",
    "plt.show()"
   ]
  },
  {
   "cell_type": "markdown",
   "metadata": {},
   "source": [
    "# Cora titles\n",
    "\n",
    "## More minhash fns than original, less than previous\n",
    "## m=15 h=180 k=12 b=1009"
   ]
  },
  {
   "cell_type": "code",
   "execution_count": 20,
   "metadata": {
    "collapsed": false
   },
   "outputs": [
    {
     "name": "stdout",
     "output_type": "stream",
     "text": [
      "This should predict ???\n",
      "             precision    recall  f1-score   support\n",
      "\n",
      "        0.0       1.00      0.49      0.66   1638564\n",
      "        1.0       0.04      0.99      0.08     38461\n",
      "\n",
      "avg / total       0.98      0.50      0.65   1677025\n",
      "\n",
      "[[804616 833948]\n",
      " [   260  38201]]\n",
      "[[  4.79787719e-01   4.97278216e-01]\n",
      " [  1.55036448e-04   2.27790283e-02]]\n"
     ]
    }
   ],
   "source": [
    "# Cora titles -- more minhash fns: m=15 k= h= b=1009\n",
    "\n",
    "bf_jaccard = np.loadtxt(\"../results/cora_titles_jaccardbf.txt\", delimiter=\"\\t\")\n",
    "mhlsh_jaccard = np.loadtxt(\"../results/cora_titles_minhash-lsh-m15b1009.txt\", delimiter=\"\\t\", skiprows=1)\n",
    "\n",
    "nrecords = 1295\n",
    "t = 0.8\n",
    "\n",
    "bf_mat = pairs_to_matrix(bf_jaccard, nrecords, t=t)\n",
    "mhlsh_mat = pairs_to_matrix(mhlsh_jaccard, nrecords, indexing=1)\n",
    "\n",
    "y_true = bf_mat.flatten()\n",
    "y_pred = mhlsh_mat.flatten()\n",
    "\n",
    "class_results = classification_report(y_true, y_pred)\n",
    "confusion = confusion_matrix(y_true, y_pred)\n",
    "norm_confusion = confusion/nrecords**2.\n",
    "print \"This should predict ???\"\n",
    "print class_results\n",
    "print confusion\n",
    "print norm_confusion"
   ]
  },
  {
   "cell_type": "code",
   "execution_count": 21,
   "metadata": {
    "collapsed": false
   },
   "outputs": [
    {
     "data": {
      "image/png": "[encoded data removed]",
      "text/plain": [
       "<matplotlib.figure.Figure at 0x7f5ab0572cd0>"
      ]
     },
     "metadata": {},
     "output_type": "display_data"
    }
   ],
   "source": [
    "fig, ax = plt.subplots(figsize=(2,2))\n",
    "ax = sns.heatmap(norm_confusion, cbar=False, annot=True, \n",
    "                 xticklabels=[\"not similar\", \"similar\"], \n",
    "                 yticklabels=[\"not similar\", \"similar\"], \n",
    "                 ax=ax,\n",
    "                 square=True)\n",
    "ax.xaxis.tick_top()\n",
    "ax.set_title(\"Cora Titles\\nh=180, m=15, k=12, b=1009\", fontsize=14, y=1.35)\n",
    "ax.text(0.55, 2.4, \"Predicted\", fontsize=12)\n",
    "ax.text(-0.9, 1, \"True\", fontsize=12)\n",
    "fig.savefig(\"../plots/confusion_cora_titles_m15b1009.png\", dpi=300, bbox_inches='tight')\n",
    "\n",
    "plt.show()"
   ]
  },
  {
   "cell_type": "markdown",
   "metadata": {},
   "source": [
    "## Many min hash functions m=55 h=990 k=18 b=1009\n",
    "\n",
    "Hypothesis: increasing min hash functions probably helps but is then limited by the number of lsh bins because we are putting more things in the lsh array"
   ]
  },
  {
   "cell_type": "code",
   "execution_count": 22,
   "metadata": {
    "collapsed": false
   },
   "outputs": [
    {
     "name": "stdout",
     "output_type": "stream",
     "text": [
      "This should predict ???\n",
      "             precision    recall  f1-score   support\n",
      "\n",
      "        0.0       1.00      0.00      0.00   1638564\n",
      "        1.0       0.02      1.00      0.04     38461\n",
      "\n",
      "avg / total       0.98      0.02      0.00   1677025\n",
      "\n",
      "[[   1784 1636780]\n",
      " [      0   38461]]\n",
      "[[ 0.00106379  0.97600215]\n",
      " [ 0.          0.02293406]]\n"
     ]
    }
   ],
   "source": [
    "# Cora titles -- more minhash fns: m=55 h=990 k=18 b=1009\n",
    "\n",
    "bf_jaccard = np.loadtxt(\"../results/cora_titles_jaccardbf.txt\", delimiter=\"\\t\")\n",
    "mhlsh_jaccard = np.loadtxt(\"../results/cora_titles_minhash-lsh-m55b1009.txt\", delimiter=\"\\t\", skiprows=1)\n",
    "\n",
    "nrecords = 1295\n",
    "t = 0.8\n",
    "\n",
    "bf_mat = pairs_to_matrix(bf_jaccard, nrecords, t=t)\n",
    "mhlsh_mat = pairs_to_matrix(mhlsh_jaccard, nrecords, indexing=1)\n",
    "\n",
    "y_true = bf_mat.flatten()\n",
    "y_pred = mhlsh_mat.flatten()\n",
    "\n",
    "class_results = classification_report(y_true, y_pred)\n",
    "confusion = confusion_matrix(y_true, y_pred)\n",
    "norm_confusion = confusion/nrecords**2.\n",
    "print \"This should predict ???\"\n",
    "print class_results\n",
    "print confusion\n",
    "print norm_confusion"
   ]
  },
  {
   "cell_type": "code",
   "execution_count": 23,
   "metadata": {
    "collapsed": false
   },
   "outputs": [
    {
     "data": {
      "image/png": "[encoded data removed]",
      "text/plain": [
       "<matplotlib.figure.Figure at 0x7f5aec1c2790>"
      ]
     },
     "metadata": {},
     "output_type": "display_data"
    }
   ],
   "source": [
    "fig, ax = plt.subplots(figsize=(2,2))\n",
    "ax = sns.heatmap(norm_confusion, cbar=False, annot=True, \n",
    "                 xticklabels=[\"not similar\", \"similar\"], \n",
    "                 yticklabels=[\"not similar\", \"similar\"], \n",
    "                 ax=ax,\n",
    "                 square=True)\n",
    "ax.xaxis.tick_top()\n",
    "ax.set_title(\"Cora Titles\\nh=990, m=55, k=18, b=1009\", fontsize=14, y=1.35)\n",
    "ax.text(0.55, 2.4, \"Predicted\", fontsize=12)\n",
    "ax.text(-0.9, 1, \"True\", fontsize=12)\n",
    "fig.savefig(\"../plots/confusion_cora_titles_m55b1009.png\", dpi=300, bbox_inches='tight')\n",
    "\n",
    "plt.show()"
   ]
  },
  {
   "cell_type": "markdown",
   "metadata": {},
   "source": [
    "# Cora titles -- testing the effect of more bins using increased #s of hash fns"
   ]
  },
  {
   "cell_type": "markdown",
   "metadata": {},
   "source": [
    "## Many min hash functions m=55 h=990 k=18 b=2789"
   ]
  },
  {
   "cell_type": "code",
   "execution_count": 24,
   "metadata": {
    "collapsed": false
   },
   "outputs": [
    {
     "name": "stdout",
     "output_type": "stream",
     "text": [
      "This should predict ???\n",
      "             precision    recall  f1-score   support\n",
      "\n",
      "        0.0       1.00      0.20      0.33   1638564\n",
      "        1.0       0.03      1.00      0.06     38461\n",
      "\n",
      "avg / total       0.98      0.22      0.33   1677025\n",
      "\n",
      "[[ 329184 1309380]\n",
      " [      0   38461]]\n",
      "[[ 0.19629045  0.78077548]\n",
      " [ 0.          0.02293406]]\n"
     ]
    }
   ],
   "source": [
    "# Cora titles -- more minhash fns: m=55 h=990 k=18 b=1009\n",
    "\n",
    "bf_jaccard = np.loadtxt(\"../results/cora_titles_jaccardbf.txt\", delimiter=\"\\t\")\n",
    "mhlsh_jaccard = np.loadtxt(\"../results/cora_titles_minhash-lsh-m55b2789.txt\", delimiter=\"\\t\", skiprows=1)\n",
    "\n",
    "nrecords = 1295\n",
    "t = 0.8\n",
    "\n",
    "bf_mat = pairs_to_matrix(bf_jaccard, nrecords, t=t)\n",
    "mhlsh_mat = pairs_to_matrix(mhlsh_jaccard, nrecords, indexing=1)\n",
    "\n",
    "y_true = bf_mat.flatten()\n",
    "y_pred = mhlsh_mat.flatten()\n",
    "\n",
    "class_results = classification_report(y_true, y_pred)\n",
    "confusion = confusion_matrix(y_true, y_pred)\n",
    "norm_confusion = confusion/nrecords**2.\n",
    "print \"This should predict ???\"\n",
    "print class_results\n",
    "print confusion\n",
    "print norm_confusion"
   ]
  },
  {
   "cell_type": "code",
   "execution_count": 25,
   "metadata": {
    "collapsed": false
   },
   "outputs": [
    {
     "data": {
      "image/png": "[encoded data removed]",
      "text/plain": [
       "<matplotlib.figure.Figure at 0x7f5ab05797d0>"
      ]
     },
     "metadata": {},
     "output_type": "display_data"
    }
   ],
   "source": [
    "fig, ax = plt.subplots(figsize=(2,2))\n",
    "ax = sns.heatmap(norm_confusion, cbar=False, annot=True, \n",
    "                 xticklabels=[\"not similar\", \"similar\"], \n",
    "                 yticklabels=[\"not similar\", \"similar\"], \n",
    "                 ax=ax,\n",
    "                 square=True)\n",
    "ax.xaxis.tick_top()\n",
    "ax.set_title(\"Cora Titles\\nh=990, m=55, k=18, b=2789\", fontsize=14, y=1.35)\n",
    "ax.text(0.55, 2.4, \"Predicted\", fontsize=12)\n",
    "ax.text(-0.9, 1, \"True\", fontsize=12)\n",
    "fig.savefig(\"../plots/confusion_cora_titles_m55b2789.png\", dpi=300, bbox_inches='tight')\n",
    "\n",
    "plt.show()"
   ]
  },
  {
   "cell_type": "markdown",
   "metadata": {},
   "source": [
    "## Many min hash functions m=55 h=990 k=18 b=9901"
   ]
  },
  {
   "cell_type": "code",
   "execution_count": 26,
   "metadata": {
    "collapsed": false
   },
   "outputs": [
    {
     "name": "stdout",
     "output_type": "stream",
     "text": [
      "This should predict ???\n",
      "             precision    recall  f1-score   support\n",
      "\n",
      "        0.0       1.00      0.41      0.59   1638564\n",
      "        1.0       0.04      0.99      0.07     38461\n",
      "\n",
      "avg / total       0.98      0.43      0.57   1677025\n",
      "\n",
      "[[679998 958566]\n",
      " [   260  38201]]\n",
      "[[  4.05478750e-01   5.71587186e-01]\n",
      " [  1.55036448e-04   2.27790283e-02]]\n"
     ]
    }
   ],
   "source": [
    "# Cora titles -- more minhash fns: m=55 h=990 k=18 b=1009\n",
    "\n",
    "bf_jaccard = np.loadtxt(\"../results/cora_titles_jaccardbf.txt\", delimiter=\"\\t\")\n",
    "mhlsh_jaccard = np.loadtxt(\"../results/cora_titles_minhash-lsh-m55b9901.txt\", delimiter=\"\\t\", skiprows=1)\n",
    "\n",
    "nrecords = 1295\n",
    "t = 0.8\n",
    "\n",
    "bf_mat = pairs_to_matrix(bf_jaccard, nrecords, t=t)\n",
    "mhlsh_mat = pairs_to_matrix(mhlsh_jaccard, nrecords, indexing=1)\n",
    "\n",
    "y_true = bf_mat.flatten()\n",
    "y_pred = mhlsh_mat.flatten()\n",
    "\n",
    "class_results = classification_report(y_true, y_pred)\n",
    "confusion = confusion_matrix(y_true, y_pred)\n",
    "norm_confusion = confusion/nrecords**2.\n",
    "print \"This should predict ???\"\n",
    "print class_results\n",
    "print confusion\n",
    "print norm_confusion"
   ]
  },
  {
   "cell_type": "code",
   "execution_count": 27,
   "metadata": {
    "collapsed": false
   },
   "outputs": [
    {
     "data": {
      "image/png": "[encoded data removed]",
      "text/plain": [
       "<matplotlib.figure.Figure at 0x7f5ab8fad510>"
      ]
     },
     "metadata": {},
     "output_type": "display_data"
    }
   ],
   "source": [
    "fig, ax = plt.subplots(figsize=(2,2))\n",
    "ax = sns.heatmap(norm_confusion, cbar=False, annot=True, \n",
    "                 xticklabels=[\"not similar\", \"similar\"], \n",
    "                 yticklabels=[\"not similar\", \"similar\"], \n",
    "                 ax=ax,\n",
    "                 square=True)\n",
    "ax.xaxis.tick_top()\n",
    "ax.set_title(\"Cora Titles\\nh=990, m=55, k=18, b=9901\", fontsize=14, y=1.35)\n",
    "ax.text(0.55, 2.4, \"Predicted\", fontsize=12)\n",
    "ax.text(-0.9, 1, \"True\", fontsize=12)\n",
    "fig.savefig(\"../plots/confusion_cora_titles_m55b9901.png\", dpi=300, bbox_inches='tight')\n",
    "\n",
    "plt.show()"
   ]
  },
  {
   "cell_type": "code",
   "execution_count": null,
   "metadata": {
    "collapsed": true
   },
   "outputs": [],
   "source": []
  },
  {
   "cell_type": "markdown",
   "metadata": {},
   "source": [
    "## Many min hash functions m=55 h=990 k=18 b=103333"
   ]
  },
  {
   "cell_type": "code",
   "execution_count": 28,
   "metadata": {
    "collapsed": false
   },
   "outputs": [
    {
     "name": "stdout",
     "output_type": "stream",
     "text": [
      "This should predict ???\n",
      "             precision    recall  f1-score   support\n",
      "\n",
      "        0.0       1.00      0.66      0.79   1638564\n",
      "        1.0       0.06      0.99      0.12     38461\n",
      "\n",
      "avg / total       0.98      0.67      0.78   1677025\n",
      "\n",
      "[[1079890  558674]\n",
      " [    260   38201]]\n",
      "[[  6.43931963e-01   3.33133972e-01]\n",
      " [  1.55036448e-04   2.27790283e-02]]\n"
     ]
    }
   ],
   "source": [
    "# Cora titles -- more minhash fns: m=55 h=990 k=18 b=1009\n",
    "\n",
    "bf_jaccard = np.loadtxt(\"../results/cora_titles_jaccardbf.txt\", delimiter=\"\\t\")\n",
    "mhlsh_jaccard = np.loadtxt(\"../results/cora_titles_minhash-lsh-m55b103333.txt\", delimiter=\"\\t\", skiprows=1)\n",
    "\n",
    "nrecords = 1295\n",
    "t = 0.8\n",
    "\n",
    "bf_mat = pairs_to_matrix(bf_jaccard, nrecords, t=t)\n",
    "mhlsh_mat = pairs_to_matrix(mhlsh_jaccard, nrecords, indexing=1)\n",
    "\n",
    "y_true = bf_mat.flatten()\n",
    "y_pred = mhlsh_mat.flatten()\n",
    "\n",
    "class_results = classification_report(y_true, y_pred)\n",
    "confusion = confusion_matrix(y_true, y_pred)\n",
    "norm_confusion = confusion/nrecords**2.\n",
    "print \"This should predict ???\"\n",
    "print class_results\n",
    "print confusion\n",
    "print norm_confusion"
   ]
  },
  {
   "cell_type": "code",
   "execution_count": 29,
   "metadata": {
    "collapsed": false
   },
   "outputs": [
    {
     "data": {
      "image/png": "[encoded data removed]",
      "text/plain": [
       "<matplotlib.figure.Figure at 0x7f5ab98fd110>"
      ]
     },
     "metadata": {},
     "output_type": "display_data"
    }
   ],
   "source": [
    "fig, ax = plt.subplots(figsize=(2,2))\n",
    "ax = sns.heatmap(norm_confusion, cbar=False, annot=True, \n",
    "                 xticklabels=[\"not similar\", \"similar\"], \n",
    "                 yticklabels=[\"not similar\", \"similar\"], \n",
    "                 ax=ax,\n",
    "                 square=True)\n",
    "ax.xaxis.tick_top()\n",
    "ax.set_title(\"Cora Titles\\nh=990, m=55, k=18, b=103333\", fontsize=14, y=1.35)\n",
    "ax.text(0.55, 2.4, \"Predicted\", fontsize=12)\n",
    "ax.text(-0.9, 1, \"True\", fontsize=12)\n",
    "fig.savefig(\"../plots/confusion_cora_titles_m55b103333.png\", dpi=300, bbox_inches='tight')\n",
    "\n",
    "plt.show()"
   ]
  },
  {
   "cell_type": "code",
   "execution_count": null,
   "metadata": {
    "collapsed": true
   },
   "outputs": [],
   "source": []
  },
  {
   "cell_type": "markdown",
   "metadata": {},
   "source": [
    "## Many min hash functions m=55 h=990 k=18 b=1000003\n",
    "\n",
    "We have likely reached the upper bound on the helpfulness of increasing lsh, and the number of minhash functions is again the limitation"
   ]
  },
  {
   "cell_type": "code",
   "execution_count": 30,
   "metadata": {
    "collapsed": false
   },
   "outputs": [
    {
     "name": "stdout",
     "output_type": "stream",
     "text": [
      "This should predict ???\n",
      "             precision    recall  f1-score   support\n",
      "\n",
      "        0.0       1.00      0.66      0.79   1638564\n",
      "        1.0       0.06      0.99      0.12     38461\n",
      "\n",
      "avg / total       0.98      0.67      0.78   1677025\n",
      "\n",
      "[[1079890  558674]\n",
      " [    260   38201]]\n",
      "[[  6.43931963e-01   3.33133972e-01]\n",
      " [  1.55036448e-04   2.27790283e-02]]\n"
     ]
    }
   ],
   "source": [
    "# Cora titles -- more minhash fns: m=55 h=990 k=18 b=1009\n",
    "\n",
    "bf_jaccard = np.loadtxt(\"../results/cora_titles_jaccardbf.txt\", delimiter=\"\\t\")\n",
    "mhlsh_jaccard = np.loadtxt(\"../results/cora_titles_minhash-lsh-m55b1000003.txt\", delimiter=\"\\t\", skiprows=1)\n",
    "\n",
    "nrecords = 1295\n",
    "t = 0.8\n",
    "\n",
    "bf_mat = pairs_to_matrix(bf_jaccard, nrecords, t=t)\n",
    "mhlsh_mat = pairs_to_matrix(mhlsh_jaccard, nrecords, indexing=1)\n",
    "\n",
    "y_true = bf_mat.flatten()\n",
    "y_pred = mhlsh_mat.flatten()\n",
    "\n",
    "class_results = classification_report(y_true, y_pred)\n",
    "confusion = confusion_matrix(y_true, y_pred)\n",
    "norm_confusion = confusion/nrecords**2.\n",
    "print \"This should predict ???\"\n",
    "print class_results\n",
    "print confusion\n",
    "print norm_confusion"
   ]
  },
  {
   "cell_type": "code",
   "execution_count": 31,
   "metadata": {
    "collapsed": false
   },
   "outputs": [
    {
     "data": {
      "image/png": "[encoded data removed]",
      "text/plain": [
       "<matplotlib.figure.Figure at 0x7f5ab76f5210>"
      ]
     },
     "metadata": {},
     "output_type": "display_data"
    }
   ],
   "source": [
    "fig, ax = plt.subplots(figsize=(2,2))\n",
    "ax = sns.heatmap(norm_confusion, cbar=False, annot=True, \n",
    "                 xticklabels=[\"not similar\", \"similar\"], \n",
    "                 yticklabels=[\"not similar\", \"similar\"], \n",
    "                 ax=ax,\n",
    "                 square=True)\n",
    "ax.xaxis.tick_top()\n",
    "ax.set_title(\"Cora Titles\\nh=990, m=55, k=18, b=1000003\", fontsize=14, y=1.35)\n",
    "ax.text(0.55, 2.4, \"Predicted\", fontsize=12)\n",
    "ax.text(-0.9, 1, \"True\", fontsize=12)\n",
    "fig.savefig(\"../plots/confusion_cora_titles_m55b1000003.png\", dpi=300, bbox_inches='tight')\n",
    "\n",
    "plt.show()"
   ]
  },
  {
   "cell_type": "code",
   "execution_count": null,
   "metadata": {
    "collapsed": true
   },
   "outputs": [],
   "source": []
  },
  {
   "cell_type": "markdown",
   "metadata": {},
   "source": [
    "## Many min hash functions m=55 h=990 k=18 b=10000019\n",
    "\n",
    "We have likely reached the upper bound on the helpfulness of increasing lsh, and the number of minhash functions is again the limitation"
   ]
  },
  {
   "cell_type": "code",
   "execution_count": 32,
   "metadata": {
    "collapsed": false
   },
   "outputs": [
    {
     "name": "stdout",
     "output_type": "stream",
     "text": [
      "This should predict ???\n",
      "             precision    recall  f1-score   support\n",
      "\n",
      "        0.0       1.00      0.66      0.79   1638564\n",
      "        1.0       0.06      0.99      0.12     38461\n",
      "\n",
      "avg / total       0.98      0.67      0.78   1677025\n",
      "\n",
      "[[1079890  558674]\n",
      " [    260   38201]]\n",
      "[[  6.43931963e-01   3.33133972e-01]\n",
      " [  1.55036448e-04   2.27790283e-02]]\n"
     ]
    }
   ],
   "source": [
    "# Cora titles -- more minhash fns: m=55 h=990 k=18 b=1009\n",
    "\n",
    "bf_jaccard = np.loadtxt(\"../results/cora_titles_jaccardbf.txt\", delimiter=\"\\t\")\n",
    "mhlsh_jaccard = np.loadtxt(\"../results/cora_titles_minhash-lsh-m55b10000019.txt\", delimiter=\"\\t\", skiprows=1)\n",
    "\n",
    "nrecords = 1295\n",
    "t = 0.8\n",
    "\n",
    "bf_mat = pairs_to_matrix(bf_jaccard, nrecords, t=t)\n",
    "mhlsh_mat = pairs_to_matrix(mhlsh_jaccard, nrecords, indexing=1)\n",
    "\n",
    "y_true = bf_mat.flatten()\n",
    "y_pred = mhlsh_mat.flatten()\n",
    "\n",
    "class_results = classification_report(y_true, y_pred)\n",
    "confusion = confusion_matrix(y_true, y_pred)\n",
    "norm_confusion = confusion/nrecords**2.\n",
    "print \"This should predict ???\"\n",
    "print class_results\n",
    "print confusion\n",
    "print norm_confusion"
   ]
  },
  {
   "cell_type": "code",
   "execution_count": 33,
   "metadata": {
    "collapsed": false
   },
   "outputs": [
    {
     "data": {
      "image/png": "[encoded data removed]",
      "text/plain": [
       "<matplotlib.figure.Figure at 0x7f5ab0579910>"
      ]
     },
     "metadata": {},
     "output_type": "display_data"
    }
   ],
   "source": [
    "fig, ax = plt.subplots(figsize=(2,2))\n",
    "ax = sns.heatmap(norm_confusion, cbar=False, annot=True, \n",
    "                 xticklabels=[\"not similar\", \"similar\"], \n",
    "                 yticklabels=[\"not similar\", \"similar\"], \n",
    "                 ax=ax,\n",
    "                 square=True)\n",
    "ax.xaxis.tick_top()\n",
    "ax.set_title(\"Cora Titles\\nh=990, m=55, k=18, b=10000019\", fontsize=14, y=1.35)\n",
    "ax.text(0.55, 2.4, \"Predicted\", fontsize=12)\n",
    "ax.text(-0.9, 1, \"True\", fontsize=12)\n",
    "fig.savefig(\"../plots/confusion_cora_titles_m55b10000019.png\", dpi=300, bbox_inches='tight')\n",
    "\n",
    "plt.show()"
   ]
  },
  {
   "cell_type": "raw",
   "metadata": {},
   "source": [
    "ax = sns.heatmap(norm_confusion, cbar=False, annot=True, \n",
    "                 xticklabels=[\"Predicted not similar\", \"Predicted similar\"], \n",
    "                 yticklabels=[\"Truly not similar\", \"Truly similar\"], ax=ax)\n",
    "plt.show()\n",
    "\n",
    "fig.suptitle(\"Confusion matrix: \")\n",
    "fig.savefig(\"../plots/.png\", dpi=300, pad_inches=0)"
   ]
  },
  {
   "cell_type": "code",
   "execution_count": null,
   "metadata": {
    "collapsed": true
   },
   "outputs": [],
   "source": []
  },
  {
   "cell_type": "code",
   "execution_count": null,
   "metadata": {
    "collapsed": true
   },
   "outputs": [],
   "source": []
  },
  {
   "cell_type": "code",
   "execution_count": null,
   "metadata": {
    "collapsed": true
   },
   "outputs": [],
   "source": []
  }
 ],
 "metadata": {
  "anaconda-cloud": {},
  "kernelspec": {
   "display_name": "Python [conda root]",
   "language": "python",
   "name": "conda-root-py"
  },
  "language_info": {
   "codemirror_mode": {
    "name": "ipython",
    "version": 2
   },
   "file_extension": ".py",
   "mimetype": "text/x-python",
   "name": "python",
   "nbconvert_exporter": "python",
   "pygments_lexer": "ipython2",
   "version": "2.7.12"
  }
 },
 "nbformat": 4,
 "nbformat_minor": 1
}
