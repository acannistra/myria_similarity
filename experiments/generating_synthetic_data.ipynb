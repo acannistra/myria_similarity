{
 "cells": [
  {
   "cell_type": "code",
   "execution_count": 22,
   "metadata": {
    "collapsed": false
   },
   "outputs": [
    {
     "data": {
      "text/plain": [
       "'0123456789'"
      ]
     },
     "execution_count": 22,
     "metadata": {},
     "output_type": "execute_result"
    }
   ],
   "source": [
    "import random\n",
    "import string\n",
    "\n",
    "string.digits"
   ]
  },
  {
   "cell_type": "code",
   "execution_count": 29,
   "metadata": {
    "collapsed": false
   },
   "outputs": [],
   "source": [
    "import random\n",
    "\n",
    "strings = ['abcde', 'xyz12']\n",
    "\n",
    "outfile1 = open('../data/twoclass_data.txt', 'w+')\n",
    "result1 = []\n",
    "for i in range(0, 1000):\n",
    "    if i < 500:\n",
    "        result1.append(strings[0])\n",
    "        outfile1.write(str(i)+'\\t'+strings[0]+'\\n')\n",
    "    else:\n",
    "        outfile1.write(str(i)+'\\t'+strings[1]+'\\n')\n",
    "        \n",
    "outfile2 = open('../data/oneclass_random_data.txt', 'w+')\n",
    "for j in range(0, 1000):\n",
    "    if j < 500:\n",
    "        outfile2.write(str(j)+'\\t'+strings[0]+'\\n')\n",
    "    else:\n",
    "        outfile2.write(str(j)+'\\t'+\"\".join(random.choice(string.ascii_letters+string.digits) for _ in range(5))+'\\n')\n",
    "        \n",
    "# outfile3 = open(\"../data/noclass_random_data.txt\", \"w+\")\n",
    "outfile3 = open(\"/cse/web/homes/kdorosch/noclass_random_data.txt\", \"w+\")\n",
    "for j in range(0, 1000):\n",
    "    outfile3.write(str(j)+'\\t'+\"\".join(random.choice(string.ascii_letters+string.digits) for _ in range(5))+'\\n')"
   ]
  }
 ],
 "metadata": {
  "anaconda-cloud": {},
  "kernelspec": {
   "display_name": "Python [conda root]",
   "language": "python",
   "name": "conda-root-py"
  },
  "language_info": {
   "codemirror_mode": {
    "name": "ipython",
    "version": 2
   },
   "file_extension": ".py",
   "mimetype": "text/x-python",
   "name": "python",
   "nbconvert_exporter": "python",
   "pygments_lexer": "ipython2",
   "version": "2.7.12"
  }
 },
 "nbformat": 4,
 "nbformat_minor": 1
}
