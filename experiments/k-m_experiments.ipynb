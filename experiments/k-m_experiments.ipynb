{
 "cells": [
  {
   "cell_type": "code",
   "execution_count": 2,
   "metadata": {
    "collapsed": false
   },
   "outputs": [
    {
     "name": "stderr",
     "output_type": "stream",
     "text": [
      "/homes/gws/kdorosch/software/anaconda2/lib/python2.7/site-packages/IPython/html.py:14: ShimWarning: The `IPython.html` package has been deprecated. You should import from `notebook` instead. `IPython.html.widgets` has moved to `ipywidgets`.\n",
      "  \"`IPython.html.widgets` has moved to `ipywidgets`.\", ShimWarning)\n"
     ]
    }
   ],
   "source": [
    "import pandas as pd\n",
    "import numpy as np\n",
    "from functools import partial\n",
    "import matplotlib.pyplot as plt\n",
    "from IPython.html.widgets import interact\n",
    "%matplotlib inline "
   ]
  },
  {
   "cell_type": "markdown",
   "metadata": {},
   "source": [
    "# k-m experiments for Jaccard\n",
    "\n",
    "The Jaccard index $\\mathcal{J}$ on two sets $A$ and $B$ is defined as $$\\mathcal{J}(A,B) = \\frac{|A \\cap B|}{|A \\cup B|}$$\n",
    "\n",
    "To estimate $\\mathcal{J}(A,B)$, we use a minhashing scheme as follows. Given a random hash function $h$, $h(A) = \\textrm{argmin}\\{h(x) \\mid x \\in A\\}$ by definition of minhashing. Given this, $P(h(A) = h(B)) = \\mathcal{J}(A, B)$ which is our intended objective. \n",
    "\n",
    "To compute this, we use a locality-sensitive hashing scheme. We create $m$ blocks of size $k$, where each of the $m$ buckets contains $k$ minhashes. For $A$ and $B$ to be considered \"similar\" within the context of their Jaccard similarity $\\mathcal{J}$ (that is, within some similarity $\\epsilon$), ... \n",
    "\n",
    "Here we calculate $P(\\textrm{some block} = \\textrm{some block}) = 1 - (1 - \\mathcal{J}(A, B)^k)^m$ and use this for tuning K and M. \n"
   ]
  },
  {
   "cell_type": "markdown",
   "metadata": {},
   "source": [
    "## Data\n",
    "The data for this experiment is the [CORA](http://www.cs.utexas.edu/users/ml/riddle/data/cora.tar.gz) citation database from UCI's [SHERLOCK](http://sherlock.ics.uci.edu/data.html) project. It is a citation database with lots of related records, good for similarity join testing. \n",
    "\n",
    "## Approach (i think this is wrong)\n",
    "\n",
    "As a proof-of-concept I will begin by defining record similarity on **just the title field** of the record, rather than the entire thing. The final analysis should include the entire record, but I chose a field for the purposes of understanding the concept. \n",
    "\n",
    "The outline of the apprach is as follows:\n",
    "\n",
    "* Compute $n$-grams (*with what $n$?*) for all title fields in data. \n",
    "* Compute all-pairs Jaccard between all records (self-join).\n",
    "* Plot $P(A, B) = 1 - (1 - \\mathcal{J}(A, B)^k)^m$ for representative pair (?), with facility to choose k and m.\n",
    "\n"
   ]
  },
  {
   "cell_type": "code",
   "execution_count": 3,
   "metadata": {
    "collapsed": false
   },
   "outputs": [],
   "source": [
    "# from http://locallyoptimal.com/blog/2013/01/20/elegant-n-gram-generation-in-python/\n",
    "def find_ngrams(input_list, n):\n",
    "  return zip(*[input_list[i:] for i in range(n)])\n",
    "\n",
    "cora_data = pd.DataFrame.from_csv(\"../data/cora/cora.txt\", sep='\\t', header=None)\n",
    "cora_data['ngram_titles'] = cora_data[4].apply(find_ngrams, n=5)"
   ]
  },
  {
   "cell_type": "markdown",
   "metadata": {},
   "source": [
    "## Another Idea:\n",
    "\n",
    "Since the value of the Jaccard ranges from (0,1), I don't think we actually have to do any actuall Jaccard computation. We just need to explore the space of Jaccard and examine how the values of K and M interact with the probability of a chosen Jaccard value? \n",
    "\n",
    "**not sure about any of that** but below is a mechanism for computing it. \n",
    "\n"
   ]
  },
  {
   "cell_type": "code",
   "execution_count": 4,
   "metadata": {
    "collapsed": false
   },
   "outputs": [
    {
     "data": {
      "text/plain": [
       "<function __main__.interactfun>"
      ]
     },
     "execution_count": 4,
     "metadata": {},
     "output_type": "execute_result"
    },
    {
     "data": {
      "image/png": "[encoded data removed]",
      "text/plain": [
       "<matplotlib.figure.Figure at 0x7f8edc243ad0>"
      ]
     },
     "metadata": {},
     "output_type": "display_data"
    }
   ],
   "source": [
    "simspace = np.linspace(0, 1, 100)\n",
    "def probsim(sim, k, m):\n",
    "    # $P(A, B) = 1 - (1 - \\mathcal{J}(A, B)^k)^m$ where $P(A,B) = \\textrm{sim}$\n",
    "    return 1 - (1 - sim**k)**m\n",
    "\n",
    "def plot_probsim(sims, k, m):\n",
    "    probsfunc = np.vectorize(partial(probsim, k=k, m=m))\n",
    "    probs = probsfunc(sims);\n",
    "    plt.plot(sims, probs)\n",
    "    plt.ylabel(\"P(block = block)\")\n",
    "    plt.xlabel(\"Jaccard\")\n",
    "    \n",
    "\n",
    "def interactfun(k, m):\n",
    "    plot_probsim(simspace, k, m)\n",
    "    \n",
    "interact(interactfun, k=(0, 0.10,0.001), m=(0,1,0.01))\n"
   ]
  },
  {
   "cell_type": "code",
   "execution_count": 5,
   "metadata": {
    "collapsed": false
   },
   "outputs": [
    {
     "data": {
      "text/plain": [
       "<function __main__.interactfun>"
      ]
     },
     "execution_count": 5,
     "metadata": {},
     "output_type": "execute_result"
    },
    {
     "data": {
      "image/png": "[encoded data removed]",
      "text/plain": [
       "<matplotlib.figure.Figure at 0x7f8edc23a690>"
      ]
     },
     "metadata": {},
     "output_type": "display_data"
    }
   ],
   "source": [
    "interact(interactfun, k=(0,10,1), m=(0,25,0.1))"
   ]
  },
  {
   "cell_type": "markdown",
   "metadata": {
    "collapsed": true
   },
   "source": [
    "#Something's not right\n",
    "\n",
    "I get the sense here that something is still not perfect here––what makes this analysis for Jaccard different for the analyses of different algorithms? (nothing, currently). So I'm not sure we're there yet on this. "
   ]
  },
  {
   "cell_type": "code",
   "execution_count": 6,
   "metadata": {
    "collapsed": false
   },
   "outputs": [
    {
     "name": "stdout",
     "output_type": "stream",
     "text": [
      "Try these values in the simulator:\n",
      "1\t3.33333333333\t0.3\n",
      "2\t11.1111111111\t0.3\n",
      "3\t37.037037037\t0.3\n",
      "4\t123.456790123\t0.3\n",
      "5\t411.522633745\t0.3\n",
      "6\t1371.74211248\t0.3\n",
      "7\t4572.47370828\t0.3\n",
      "8\t15241.5790276\t0.3\n",
      "9\t50805.2634253\t0.3\n"
     ]
    }
   ],
   "source": [
    "goal_t = 0.3\n",
    "def approx_threshold(k,m):\n",
    "    return (1./m)**(1./k)\n",
    "\n",
    "print \"Try these values in the simulator:\"\n",
    "for k in range(1,10):\n",
    "    m = 1/goal_t**k\n",
    "    print str(k) + \"\\t\"+ str(m) + \"\\t\" + str(approx_threshold(k,m))"
   ]
  },
  {
   "cell_type": "code",
   "execution_count": 8,
   "metadata": {
    "collapsed": false
   },
   "outputs": [
    {
     "data": {
      "text/plain": [
       "7450.088517434378"
      ]
     },
     "metadata": {},
     "output_type": "display_data"
    }
   ],
   "source": [
    "def find_m(k,t):\n",
    "    return 1/t**k\n",
    "\n",
    "interact(find_m, k=(1,20,1), t=(0.01,1,0.01))"
   ]
  },
  {
   "cell_type": "markdown",
   "metadata": {
    "collapsed": true
   },
   "source": [
    "## Response to k-m experiments so far\n",
    "\n",
    "I don't actually think anything is wrong.\n",
    "\n",
    "See p.90 @ http://infolab.stanford.edu/~ullman/mmds/ch3.pdf \n",
    "\"An approximation to the threshold is (1/b)^(1/r).\" (where for us, r->k & b->m)\n",
    "\n",
    "Say we want threshold t=0.7. We would then find k&m s.t. 0.7=(1/m)^(1/k)\n",
    "\n",
    "They give the example threshold t~0.5, with b(aka m)=16 and r(aka k)=4.\n",
    "\n",
    "We can specify a goal threshold t and aim to choose small values of k. (Reason: choosing small k reduces numerical instability because it is the innermost power which is then carried through the rest of the calculations.) This leaves us to solve for m:\n",
    "\n",
    "$$t = \\frac{1}{m}^{\\frac{1}{k}}$$\n",
    "$$log(t) = \\frac{1}{k}log(\\frac{1}{m})$$\n",
    "$$k*log(t) = log(\\frac{1}{m})$$\n",
    "$$t^k = \\frac{1}{m}$$\n",
    "$$m = \\frac{1}{t^k}$$\n",
    "\n",
    "\n",
    "### The next question: is there a secondary property we want to optimize? \n",
    "#### S-curve should be steep\n",
    "I imagine we would like the S-curve to have as steep of a slope as possible in the transition, as this would make the threshold cleaner. \n",
    "\n",
    "#### Is there a reason it shouldn't be steep?\n",
    "A less steep slope would be able to differentiate around the threshold (but the threshold is firm so it shouldn't matter unless it affects the precision amongst the hashed probabilities or something).\n",
    "\n",
    "A less steep slope (aka smaller k and correspondingly smaller m) decreases the risk of numerical instability with computation of powers.\n",
    "\n",
    "\n",
    "Talk about in the paper:\n",
    "lower threshold"
   ]
  },
  {
   "cell_type": "code",
   "execution_count": null,
   "metadata": {
    "collapsed": true
   },
   "outputs": [],
   "source": []
  }
 ],
 "metadata": {
  "anaconda-cloud": {},
  "kernelspec": {
   "display_name": "Python [default]",
   "language": "python",
   "name": "python2"
  },
  "language_info": {
   "codemirror_mode": {
    "name": "ipython",
    "version": 2
   },
   "file_extension": ".py",
   "mimetype": "text/x-python",
   "name": "python",
   "nbconvert_exporter": "python",
   "pygments_lexer": "ipython2",
   "version": "2.7.12"
  },
  "widgets": {
   "state": {
    "05eb5db88b294e3faabc24950125f0c2": {
     "views": [
      {
       "cell_index": 9
      }
     ]
    },
    "66e510f01a5d4eee8f1240c0bc1471b0": {
     "views": [
      {
       "cell_index": 5
      }
     ]
    },
    "7a4e55a9af9e45518a7cd275e0d732dc": {
     "views": [
      {
       "cell_index": 6
      }
     ]
    }
   },
   "version": "1.2.0"
  }
 },
 "nbformat": 4,
 "nbformat_minor": 0
}
