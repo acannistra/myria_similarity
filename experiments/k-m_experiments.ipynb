{
 "cells": [
  {
   "cell_type": "code",
   "execution_count": 53,
   "metadata": {
    "collapsed": false
   },
   "outputs": [],
   "source": [
    "import pandas as pd\n",
    "import numpy as np\n",
    "from functools import partial\n",
    "import matplotlib.pyplot as plt\n",
    "from IPython.html.widgets import interact\n",
    "%matplotlib inline "
   ]
  },
  {
   "cell_type": "markdown",
   "metadata": {},
   "source": [
    "# k-m experiments for Jaccard\n",
    "\n",
    "The Jaccard index $\\mathcal{J}$ on two sets $A$ and $B$ is defined as $$\\mathcal{J}(A,B) = \\frac{|A \\cap B|}{|A \\cup B|}$$\n",
    "\n",
    "To estimate $\\mathcal{J}(A,B)$, we use a minhashing scheme as follows. Given a random hash function $h$, $h(A) = \\textrm{argmin}\\{h(x) \\mid x \\in A\\}$ by definition of minhashing. Given this, $P(h(A) = h(B)) = \\mathcal{J}(A, B)$ which is our intended objective. \n",
    "\n",
    "To compute this, we use a locality-sensitive hashing scheme. We create $m$ buckets of size $k$, where each of the $m$ buckets contains $k$ minhashes. For $A$ and $B$ to be considered \"similar\" within the context of their Jaccard similarity $\\mathcal{J}$ (that is, within some similarity $\\epsilon$), ...\n",
    "\n",
    "Here we calculate $P(\\textrm{some block} = \\textrm{some block}) = 1 - (1 - \\mathcal{J}(A, B)^k)^m$ and use this for tuning K and M. \n"
   ]
  },
  {
   "cell_type": "markdown",
   "metadata": {},
   "source": [
    "## Data\n",
    "The data for this experiment the [CORA](http://www.cs.utexas.edu/users/ml/riddle/data/cora.tar.gz) citation database from UCI's [SHERLOCK](http://sherlock.ics.uci.edu/data.html) project. It is a citation database with lots of related records, good for similarity join testing. \n",
    "\n",
    "## Approach\n",
    "As a proof-of-concept I will begin by defining record similarity on **just the title field** of the record, rather than the entire thing. The final analysis should include the entire record, but I chose a field for the purposes of understanding the concept. \n",
    "\n",
    "The outline of the apprach is as follows:\n",
    "\n",
    "* Compute $n$-grams (*with what $n$?*) for all title fields in data. \n",
    "* Compute all-pairs Jaccard between all records (self-join).\n",
    "* Plot $P(A, B) = 1 - (1 - \\mathcal{J}(A, B)^k)^m$ for representative pair (?), with facility to choose k and m.\n",
    "\n"
   ]
  },
  {
   "cell_type": "code",
   "execution_count": 29,
   "metadata": {
    "collapsed": false
   },
   "outputs": [],
   "source": [
    "# from http://locallyoptimal.com/blog/2013/01/20/elegant-n-gram-generation-in-python/\n",
    "def find_ngrams(input_list, n):\n",
    "  return zip(*[input_list[i:] for i in range(n)])\n",
    "\n",
    "cora_data = pd.DataFrame.from_csv(\"../data/cora/cora.txt\", sep='\\t', header=None)\n",
    "cora_data['ngram_titles'] = cora_data[4].apply(find_ngrams, n=5)"
   ]
  },
  {
   "cell_type": "markdown",
   "metadata": {},
   "source": [
    "## Another Idea:\n",
    "\n",
    "\n"
   ]
  },
  {
   "cell_type": "code",
   "execution_count": 66,
   "metadata": {
    "collapsed": false
   },
   "outputs": [
    {
     "data": {
      "image/png": "[encoded data removed]",
      "text/plain": [
       "<matplotlib.figure.Figure at 0x10b77e590>"
      ]
     },
     "metadata": {},
     "output_type": "display_data"
    }
   ],
   "source": [
    "simspace = np.linspace(0, 1, 100)\n",
    "def probsim(sim, k, m):\n",
    "    return 1 - (1 - sim**k)**m\n",
    "\n",
    "def plot_probsim(sims, k, m):\n",
    "    probsfunc = np.vectorize(partial(probsim, k=k, m=m))\n",
    "    probs = probsfunc(sims);\n",
    "    plt.plot(sims, probs)\n",
    "    \n",
    "\n",
    "def interactfun(k, m):\n",
    "    plot_probsim(simspace, k, m)\n",
    "    \n",
    "interact(interactfun, k=(0, 0.10,0.001), m=(0,1,0.01))\n"
   ]
  },
  {
   "cell_type": "code",
   "execution_count": null,
   "metadata": {
    "collapsed": true
   },
   "outputs": [],
   "source": []
  }
 ],
 "metadata": {
  "kernelspec": {
   "display_name": "Python 2",
   "language": "python",
   "name": "python2"
  },
  "language_info": {
   "codemirror_mode": {
    "name": "ipython",
    "version": 2
   },
   "file_extension": ".py",
   "mimetype": "text/x-python",
   "name": "python",
   "nbconvert_exporter": "python",
   "pygments_lexer": "ipython2",
   "version": "2.7.12"
  }
 },
 "nbformat": 4,
 "nbformat_minor": 0
}
