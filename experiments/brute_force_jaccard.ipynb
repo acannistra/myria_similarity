{
 "cells": [
  {
   "cell_type": "code",
   "execution_count": 1,
   "metadata": {
    "collapsed": true
   },
   "outputs": [],
   "source": [
    "import pandas as pd\n",
    "import numpy as np\n",
    "import matplotlib.pyplot as plt\n",
    "import seaborn as sns\n",
    "%matplotlib inline "
   ]
  },
  {
   "cell_type": "markdown",
   "metadata": {},
   "source": [
    "# Brute-forcing Jaccard similarity computations\n",
    "This computes actual Jaccard similarities for records in the cora data, rather than an approximation. These Jaccard similarity scores allow us to compare scores as approximated by minhashing, which we will implement for similarity joins in Myria.\n",
    "\n",
    "The Jaccard index $\\mathcal{J}$ on two sets $A$ and $B$ is defined as $$\\mathcal{J}(A,B) = \\frac{|A \\cap B|}{|A \\cup B|}$$\n",
    "\n",
    "$A$ and $B$ each represent a *set* (not tuple?) of ngrams for the title of a record.\n",
    "\n",
    "## Misc. considerations:\n",
    "### Handling similarity of varying parts of the record\n",
    "For now, just handling the Jaccard similarity of titles. \n",
    "\n",
    "### Do we want the Jaccard coefficient (as above) or the distance (1 - above)?\n",
    "I think we want the coefficient but I haven't thought about it enough yet to be fully convinced.\n",
    "\n",
    "###  Whatever I'm doing with the data is probably wrong\n",
    "I have never had an explicit need to use pandas but this is a good time to learn... 100% open to corrections & suggestions because I will mess up and/or inadvertently use sub-optimal features in the learning process!"
   ]
  },
  {
   "cell_type": "code",
   "execution_count": 2,
   "metadata": {
    "collapsed": true
   },
   "outputs": [],
   "source": [
    "# from http://locallyoptimal.com/blog/2013/01/20/elegant-n-gram-generation-in-python/\n",
    "def find_ngrams(input_list, n):\n",
    "  return zip(*[input_list[i:] for i in range(n)])\n",
    "\n",
    "cora_data = pd.DataFrame.from_csv(\"../data/cora/cora.txt\", sep='\\t', header=None)\n",
    "cora_data['ngram_titles'] = cora_data[4].apply(find_ngrams, n=5)"
   ]
  },
  {
   "cell_type": "markdown",
   "metadata": {},
   "source": [
    "## Jaccard similarity function\n",
    "\n",
    "**Input:** A list or set of chars\n",
    "\n",
    "**Output:** A float in the range (0,1) representing the Jaccard similarity of the two sets"
   ]
  },
  {
   "cell_type": "code",
   "execution_count": 3,
   "metadata": {
    "collapsed": true
   },
   "outputs": [],
   "source": [
    "def jaccard_similarity(A, B):\n",
    "    A = set(A)\n",
    "    B = set(B)\n",
    "    n = len(A.intersection(B))\n",
    "    return n / float(len(A) + len(B) - n) "
   ]
  },
  {
   "cell_type": "markdown",
   "metadata": {},
   "source": [
    "Testing functionality:"
   ]
  },
  {
   "cell_type": "code",
   "execution_count": 4,
   "metadata": {
    "collapsed": false
   },
   "outputs": [
    {
     "name": "stdout",
     "output_type": "stream",
     "text": [
      "0.0336134453782\n",
      "computed: 0.375 should be: 0.375\n"
     ]
    }
   ],
   "source": [
    "titles = cora_data['ngram_titles']\n",
    "titles = np.array(titles)\n",
    "\n",
    "print jaccard_similarity(titles[0], titles[1])\n",
    "\n",
    "A = [0,1,2,5,6]\n",
    "B = [0,2,3,5,7,9]\n",
    "\n",
    "print \"computed:\", jaccard_similarity(A, B), \"should be: 0.375\", "
   ]
  },
  {
   "cell_type": "markdown",
   "metadata": {},
   "source": [
    "### Computing J(A,B) for all pairs\n",
    "How do we want to represent the output? I propose using the sorted indices of the records in a dict \n",
    "\n",
    "    jaccard_title = {(i,j):J(title(i), title(j), ...}\n",
    "    \n",
    "**Input:** records: np array where each row contains ngrams representing a record\n",
    "\n",
    "**Output:** dict with `key=(i,j)` where ints `i<j` are record indices and value=`J(record[i], record[j])`"
   ]
  },
  {
   "cell_type": "code",
   "execution_count": 5,
   "metadata": {
    "collapsed": false
   },
   "outputs": [
    {
     "name": "stdout",
     "output_type": "stream",
     "text": [
      "0.0336134453782\n"
     ]
    }
   ],
   "source": [
    "def jaccard_for_pairs(records):\n",
    "    sims = {}\n",
    "    n_records = len(records)\n",
    "    for i in range(n_records):\n",
    "        for j in range(n_records):\n",
    "            if i<j:\n",
    "                sims[(i,j)] = jaccard_similarity(records[i], records[j])\n",
    "    return sims\n",
    "\n",
    "jaccard_title = jaccard_for_pairs(titles)\n",
    "print jaccard_title.get((0,1)) # Cool, same as above"
   ]
  },
  {
   "cell_type": "code",
   "execution_count": 6,
   "metadata": {
    "collapsed": false
   },
   "outputs": [
    {
     "data": {
      "image/png": "[encoded data removed]",
      "text/plain": [
       "<matplotlib.figure.Figure at 0x7fae04bb2f10>"
      ]
     },
     "metadata": {},
     "output_type": "display_data"
    }
   ],
   "source": [
    "fig, ax = plt.subplots(2)\n",
    "\n",
    "sns.distplot(jaccard_title.values(), ax=ax[0], kde=False)\n",
    "ax[0].set_xlabel(\"Jaccard Similarity\")\n",
    "ax[0].set_title(\"Histogram of Jaccard similarity scores for cora titles\")\n",
    "\n",
    "sns.distplot(jaccard_title.values(), ax=ax[1], kde=False)\n",
    "ax[1].set_xlabel(\"Jaccard Similarity\")\n",
    "ax[1].set_yscale('log')"
   ]
  },
  {
   "cell_type": "markdown",
   "metadata": {},
   "source": [
    "# Jaccard on the whole record\n",
    "\n",
    "Decisions to make:\n",
    "\n",
    "* Handling `NaN`s (empty fields)\n",
    "    * Currently filling the DataFrame with \"\", which produces an empty list in the ngram function. This should **not** inflate the similarity because it cannot compare on absence (i.e. it adds nothing to the list of potentially similar ngrams and therefore it's just ignored). I think this is correct behavior.\n",
    "* Fields with `<n` chars (e.g. year when `n>4`)\n",
    "    * Currently the behavior of find_ngrams pads the end of the string with space chars. What is the effect of doing this?\n"
   ]
  },
  {
   "cell_type": "markdown",
   "metadata": {},
   "source": [
    "### Prepping the data by computing ngrams\n",
    "\n",
    "Surely there's a better way to do this besides writing out all of the fields..."
   ]
  },
  {
   "cell_type": "code",
   "execution_count": 7,
   "metadata": {
    "collapsed": false
   },
   "outputs": [],
   "source": [
    "cora_data.fillna(\"\", inplace=True)\n",
    "cora_data['ngram_author'] = cora_data[2].apply(find_ngrams, n=5)\n",
    "cora_data['ngram_volume'] = cora_data[3].apply(find_ngrams, n=5)\n",
    "cora_data['ngram_title'] = cora_data[4].apply(find_ngrams, n=5)\n",
    "cora_data['ngram_institute'] = cora_data[5].apply(find_ngrams, n=5)\n",
    "cora_data['ngram_venue'] = cora_data[6].apply(find_ngrams, n=5)\n",
    "cora_data['ngram_address'] = cora_data[7].apply(find_ngrams, n=5)\n",
    "cora_data['ngram_pub'] = cora_data[8].apply(find_ngrams, n=5)\n",
    "cora_data['ngram_year'] = cora_data[9].apply(find_ngrams, n=5)\n",
    "cora_data['ngram_pages'] = cora_data[10].apply(find_ngrams, n=5)\n",
    "cora_data['ngram_editor'] = cora_data[11].apply(find_ngrams, n=5)\n",
    "cora_data['ngram_note'] = cora_data[12].apply(find_ngrams, n=5)\n",
    "cora_data['ngram_month'] = cora_data[13].apply(find_ngrams, n=5)"
   ]
  },
  {
   "cell_type": "markdown",
   "metadata": {},
   "source": [
    "Append all of the `ngram_*` columns of `cora_data`:"
   ]
  },
  {
   "cell_type": "code",
   "execution_count": null,
   "metadata": {
    "collapsed": false
   },
   "outputs": [],
   "source": [
    "cora_ngrams = []\n",
    "for record in cora_data.ix[:,14:].values.tolist():\n",
    "    cora_ngrams.append([item for sublist in record for item in sublist])"
   ]
  },
  {
   "cell_type": "code",
   "execution_count": null,
   "metadata": {
    "collapsed": false
   },
   "outputs": [],
   "source": [
    "jaccard_cora_all = jaccard_for_pairs(cora_ngrams)"
   ]
  },
  {
   "cell_type": "markdown",
   "metadata": {},
   "source": [
    "Sanity check to make sure we computed the same # of pairs:"
   ]
  },
  {
   "cell_type": "code",
   "execution_count": null,
   "metadata": {
    "collapsed": false
   },
   "outputs": [],
   "source": [
    "assert len(jaccard_title.keys()) == len(jaccard_cora_all.keys())"
   ]
  },
  {
   "cell_type": "code",
   "execution_count": null,
   "metadata": {
    "collapsed": false
   },
   "outputs": [],
   "source": [
    "fig, ax = plt.subplots(2)\n",
    "\n",
    "sns.distplot(jaccard_cora_all.values(), ax=ax[0], kde=False)\n",
    "ax[0].set_xlabel(\"Jaccard Similarity\")\n",
    "ax[0].set_title(\"Histogram of Jaccard similarity scores for all cora fields\")\n",
    "\n",
    "sns.distplot(jaccard_cora_all.values(), ax=ax[1], kde=False)\n",
    "ax[1].set_xlabel(\"Jaccard Similarity\")\n",
    "ax[1].set_yscale('log')"
   ]
  },
  {
   "cell_type": "code",
   "execution_count": null,
   "metadata": {
    "collapsed": true
   },
   "outputs": [],
   "source": []
  }
 ],
 "metadata": {
  "anaconda-cloud": {},
  "kernelspec": {
   "display_name": "Python [conda root]",
   "language": "python",
   "name": "conda-root-py"
  },
  "language_info": {
   "codemirror_mode": {
    "name": "ipython",
    "version": 2
   },
   "file_extension": ".py",
   "mimetype": "text/x-python",
   "name": "python",
   "nbconvert_exporter": "python",
   "pygments_lexer": "ipython2",
   "version": "2.7.12"
  }
 },
 "nbformat": 4,
 "nbformat_minor": 1
}
