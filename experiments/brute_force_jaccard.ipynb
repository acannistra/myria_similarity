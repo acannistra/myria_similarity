{
 "cells": [
  {
   "cell_type": "code",
   "execution_count": 1,
   "metadata": {
    "collapsed": true
   },
   "outputs": [],
   "source": [
    "import pandas as pd\n",
    "import numpy as np\n",
    "import matplotlib.pyplot as plt\n",
    "import seaborn as sns\n",
    "%matplotlib inline "
   ]
  },
  {
   "cell_type": "markdown",
   "metadata": {},
   "source": [
    "# Brute-forcing Jaccard similarity computations\n",
    "This computes actual Jaccard similarities for records in the cora data, rather than an approximation. These Jaccard similarity scores allow us to compare scores as approximated by minhashing, which we will implement for similarity joins in Myria.\n",
    "\n",
    "The Jaccard index $\\mathcal{J}$ on two sets $A$ and $B$ is defined as $$\\mathcal{J}(A,B) = \\frac{|A \\cap B|}{|A \\cup B|}$$\n",
    "\n",
    "$A$ and $B$ each represent a *set* (not tuple?) of ngrams for the title of a record.\n",
    "\n",
    "## Misc. considerations:\n",
    "### Handling similarity of varying parts of the record\n",
    "For now, just handling the Jaccard similarity of titles. \n",
    "\n",
    "### Do we want the Jaccard coefficient (as above) or the distance (1 - above)?\n",
    "I think we want the coefficient but I haven't thought about it enough yet to be fully convinced.\n",
    "\n",
    "###  Whatever I'm doing with the data is probably wrong\n",
    "I have never had an explicit need to use pandas but this is a good time to learn... 100% open to corrections & suggestions because I will mess up and/or inadvertently use sub-optimal features in the learning process!"
   ]
  },
  {
   "cell_type": "code",
   "execution_count": 3,
   "metadata": {
    "collapsed": true
   },
   "outputs": [],
   "source": [
    "# from http://locallyoptimal.com/blog/2013/01/20/elegant-n-gram-generation-in-python/\n",
    "def find_ngrams(input_list, n):\n",
    "  return zip(*[input_list[i:] for i in range(n)])\n",
    "\n",
    "cora_data = pd.DataFrame.from_csv(\"../data/cora/cora.txt\", sep='\\t', header=None)\n",
    "cora_data['ngram_titles'] = cora_data[4].apply(find_ngrams, n=5)"
   ]
  },
  {
   "cell_type": "markdown",
   "metadata": {},
   "source": [
    "## Jaccard similarity function\n",
    "\n",
    "**Input:** A list or set of chars\n",
    "\n",
    "**Output:** A float in the range (0,1) representing the Jaccard similarity of the two sets"
   ]
  },
  {
   "cell_type": "code",
   "execution_count": 32,
   "metadata": {
    "collapsed": true
   },
   "outputs": [],
   "source": [
    "def jaccard_similarity(A, B):\n",
    "    A = set(A)\n",
    "    B = set(B)\n",
    "    n = len(A.intersection(B))\n",
    "    return n / float(len(A) + len(B) - n) "
   ]
  },
  {
   "cell_type": "markdown",
   "metadata": {},
   "source": [
    "Testing functionality:"
   ]
  },
  {
   "cell_type": "code",
   "execution_count": 34,
   "metadata": {
    "collapsed": false
   },
   "outputs": [
    {
     "name": "stdout",
     "output_type": "stream",
     "text": [
      "0.0336134453782\n",
      "computed: 0.375 should be: 0.375\n"
     ]
    }
   ],
   "source": [
    "titles = cora_data['ngram_titles']\n",
    "titles = np.array(titles)\n",
    "\n",
    "print jaccard_similarity(titles[0], titles[1])\n",
    "\n",
    "A = [0,1,2,5,6]\n",
    "B = [0,2,3,5,7,9]\n",
    "\n",
    "print \"computed:\", jaccard_similarity(A, B), \"should be: 0.375\", "
   ]
  },
  {
   "cell_type": "markdown",
   "metadata": {},
   "source": [
    "### Computing J(A,B) for all pairs\n",
    "How do we want to represent the output? I propose using the sorted indices of the records in a dict \n",
    "\n",
    "    jaccard_title = {(i,j):J(title(i), title(j), ...}\n",
    "    \n",
    "**Input:** records: np array where each row contains ngrams representing a record\n",
    "\n",
    "**Output:** dict with `key=(i,j)` where ints `i<j` are record indices and value=`J(record[i], record[j])`"
   ]
  },
  {
   "cell_type": "code",
   "execution_count": 36,
   "metadata": {
    "collapsed": false
   },
   "outputs": [
    {
     "name": "stdout",
     "output_type": "stream",
     "text": [
      "0.0336134453782\n"
     ]
    }
   ],
   "source": [
    "def jaccard_for_pairs(records):\n",
    "    sims = {}\n",
    "    n_records = len(records)\n",
    "    for i in range(n_records):\n",
    "        for j in range(n_records):\n",
    "            if i<j:\n",
    "                sims[(i,j)] = jaccard_similarity(records[i], records[j])\n",
    "    return sims\n",
    "\n",
    "jaccard_title = jaccard_for_pairs(titles)\n",
    "print jaccard_title.get((0,1)) # Cool, same as above"
   ]
  },
  {
   "cell_type": "code",
   "execution_count": 42,
   "metadata": {
    "collapsed": false
   },
   "outputs": [
    {
     "data": {
      "text/plain": [
       "<matplotlib.text.Text at 0x7f385ffb09d0>"
      ]
     },
     "execution_count": 42,
     "metadata": {},
     "output_type": "execute_result"
    },
    {
     "data": {
      "image/png": "[encoded data removed]",
      "text/plain": [
       "<matplotlib.figure.Figure at 0x7f385e86a350>"
      ]
     },
     "metadata": {},
     "output_type": "display_data"
    }
   ],
   "source": [
    "ax = plt.axes()\n",
    "sns.distplot(jaccard_title.values(), ax=ax)\n",
    "ax.set_title(\"Distribution of Jaccard similarity scores for cora titles\")\n",
    "ax.set_xlabel(\"Jaccard Similarity\")"
   ]
  },
  {
   "cell_type": "code",
   "execution_count": null,
   "metadata": {
    "collapsed": true
   },
   "outputs": [],
   "source": []
  }
 ],
 "metadata": {
  "anaconda-cloud": {},
  "kernelspec": {
   "display_name": "Python [conda root]",
   "language": "python",
   "name": "conda-root-py"
  },
  "language_info": {
   "codemirror_mode": {
    "name": "ipython",
    "version": 2
   },
   "file_extension": ".py",
   "mimetype": "text/x-python",
   "name": "python",
   "nbconvert_exporter": "python",
   "pygments_lexer": "ipython2",
   "version": "2.7.12"
  }
 },
 "nbformat": 4,
 "nbformat_minor": 1
}
