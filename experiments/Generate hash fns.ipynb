{
 "cells": [
  {
   "cell_type": "code",
   "execution_count": 1,
   "metadata": {
    "collapsed": true
   },
   "outputs": [],
   "source": [
    "import numpy as np\n",
    "import random"
   ]
  },
  {
   "cell_type": "code",
   "execution_count": 10,
   "metadata": {
    "collapsed": false
   },
   "outputs": [
    {
     "name": "stdout",
     "output_type": "stream",
     "text": [
      "0\t5780\t2364\n",
      "1\t1009\t9881\n",
      "2\t2478\t3687\n",
      "3\t6348\t3579\n",
      "4\t5004\t145\n",
      "5\t169\t1298\n",
      "6\t2066\t7865\n",
      "7\t5427\t8012\n",
      "8\t3942\t6314\n",
      "9\t7525\t8497\n",
      "10\t200\t3847\n",
      "11\t9390\t5530\n",
      "12\t7233\t2202\n",
      "13\t1962\t9284\n",
      "14\t6708\t9488\n",
      "15\t4642\t7071\n",
      "16\t1385\t1571\n",
      "17\t1004\t3955\n",
      "18\t5230\t9986\n",
      "19\t5547\t5088\n",
      "20\t7024\t4550\n",
      "21\t8101\t6926\n",
      "22\t8118\t5022\n",
      "23\t9703\t3485\n",
      "24\t3732\t8300\n",
      "25\t3869\t8648\n",
      "26\t5087\t5557\n",
      "27\t4270\t9884\n",
      "28\t9142\t3000\n",
      "29\t9551\t4829\n",
      "30\t2454\t1600\n",
      "31\t1149\t731\n",
      "32\t6046\t6696\n",
      "33\t9627\t8703\n",
      "34\t7985\t93\n",
      "35\t5000\t5269\n",
      "36\t4830\t4859\n",
      "37\t4830\t7824\n",
      "38\t3224\t1044\n",
      "39\t8424\t7018\n",
      "40\t6254\t9978\n",
      "41\t9386\t1397\n",
      "42\t2581\t1862\n",
      "43\t49\t7774\n",
      "44\t8878\t35\n",
      "45\t9065\t8110\n",
      "46\t4836\t6984\n",
      "47\t8214\t5835\n",
      "48\t8227\t512\n",
      "49\t9766\t4282\n",
      "50\t2243\t5847\n",
      "51\t117\t6426\n",
      "52\t2088\t6227\n",
      "53\t2244\t4272\n",
      "54\t204\t203\n",
      "55\t2146\t748\n",
      "56\t440\t895\n",
      "57\t2388\t8379\n",
      "58\t1241\t76\n",
      "59\t675\t2247\n",
      "60\t3625\t2264\n",
      "61\t1360\t822\n",
      "62\t1411\t1572\n",
      "63\t4485\t4740\n",
      "64\t2166\t1424\n",
      "65\t6702\t8639\n",
      "66\t727\t6737\n",
      "67\t809\t4971\n",
      "68\t2889\t6795\n",
      "69\t8035\t1206\n",
      "70\t9154\t6997\n",
      "71\t700\t3351\n",
      "72\t6453\t4636\n",
      "73\t9487\t6847\n",
      "74\t6190\t5922\n",
      "75\t6031\t2548\n",
      "76\t1488\t1702\n",
      "77\t9204\t5980\n",
      "78\t7204\t3120\n",
      "79\t6199\t6743\n",
      "80\t9906\t584\n",
      "81\t1371\t8748\n",
      "82\t1984\t4464\n",
      "83\t8442\t1436\n"
     ]
    }
   ],
   "source": [
    "l = 84\n",
    "f_out = open(\"../data/hash_fns_84.txt\", \"w+\")\n",
    "for i in range(l):\n",
    "    line = \"\\t\".join([str(i), str(random.randint(0,9999)), str(random.randint(0,9999))])\n",
    "    print line\n",
    "    f_out.write(line+\"\\n\")"
   ]
  },
  {
   "cell_type": "code",
   "execution_count": null,
   "metadata": {
    "collapsed": true
   },
   "outputs": [],
   "source": []
  }
 ],
 "metadata": {
  "anaconda-cloud": {},
  "kernelspec": {
   "display_name": "Python [conda root]",
   "language": "python",
   "name": "conda-root-py"
  },
  "language_info": {
   "codemirror_mode": {
    "name": "ipython",
    "version": 2
   },
   "file_extension": ".py",
   "mimetype": "text/x-python",
   "name": "python",
   "nbconvert_exporter": "python",
   "pygments_lexer": "ipython2",
   "version": "2.7.12"
  }
 },
 "nbformat": 4,
 "nbformat_minor": 1
}
