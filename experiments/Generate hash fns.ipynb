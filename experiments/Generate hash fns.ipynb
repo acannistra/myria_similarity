{
 "cells": [
  {
   "cell_type": "code",
   "execution_count": 1,
   "metadata": {
    "collapsed": true
   },
   "outputs": [],
   "source": [
    "import numpy as np\n",
    "import random"
   ]
  },
  {
   "cell_type": "code",
   "execution_count": 14,
   "metadata": {
    "collapsed": false
   },
   "outputs": [
    {
     "name": "stdout",
     "output_type": "stream",
     "text": [
      "0\t203\t286\n",
      "1\t508\t39\n",
      "2\t356\t512\n",
      "3\t84\t446\n",
      "4\t331\t19\n",
      "5\t34\t304\n",
      "6\t435\t137\n",
      "7\t143\t197\n",
      "8\t425\t262\n",
      "9\t131\t316\n",
      "10\t428\t42\n",
      "11\t265\t135\n",
      "12\t337\t93\n",
      "13\t348\t161\n",
      "14\t8\t235\n",
      "15\t343\t257\n",
      "16\t166\t414\n",
      "17\t446\t17\n",
      "18\t199\t273\n",
      "19\t375\t329\n",
      "20\t124\t218\n",
      "21\t437\t253\n",
      "22\t140\t167\n",
      "23\t412\t49\n",
      "24\t351\t256\n",
      "25\t93\t156\n",
      "26\t513\t465\n",
      "27\t418\t371\n",
      "28\t319\t384\n",
      "29\t167\t12\n",
      "30\t81\t313\n",
      "31\t471\t458\n",
      "32\t279\t53\n",
      "33\t369\t135\n",
      "34\t80\t444\n",
      "35\t171\t198\n",
      "36\t44\t7\n",
      "37\t306\t165\n",
      "38\t83\t230\n",
      "39\t188\t451\n",
      "40\t134\t261\n",
      "41\t140\t0\n",
      "42\t509\t182\n",
      "43\t360\t382\n",
      "44\t392\t482\n",
      "45\t303\t403\n",
      "46\t502\t59\n",
      "47\t211\t469\n",
      "48\t481\t165\n",
      "49\t82\t406\n",
      "50\t2\t418\n",
      "51\t232\t503\n",
      "52\t176\t135\n",
      "53\t354\t475\n",
      "54\t25\t116\n",
      "55\t33\t107\n",
      "56\t411\t124\n",
      "57\t474\t270\n",
      "58\t475\t114\n",
      "59\t499\t284\n",
      "60\t254\t476\n",
      "61\t473\t124\n",
      "62\t255\t481\n",
      "63\t492\t264\n",
      "64\t49\t78\n",
      "65\t177\t33\n",
      "66\t318\t174\n",
      "67\t472\t446\n",
      "68\t261\t394\n",
      "69\t63\t233\n",
      "70\t129\t297\n",
      "71\t267\t73\n",
      "72\t386\t515\n",
      "73\t229\t244\n",
      "74\t102\t38\n",
      "75\t86\t88\n",
      "76\t107\t195\n",
      "77\t219\t243\n",
      "78\t136\t16\n",
      "79\t382\t114\n",
      "80\t175\t303\n",
      "81\t370\t275\n",
      "82\t199\t414\n",
      "83\t511\t221\n",
      "84\t279\t92\n",
      "85\t505\t142\n",
      "86\t455\t0\n",
      "87\t188\t337\n",
      "88\t226\t90\n",
      "89\t341\t7\n"
     ]
    }
   ],
   "source": [
    "l = 90\n",
    "prime = 521\n",
    "f_out = open(\"../data/hash_fns_90.txt\", \"w+\")\n",
    "for i in range(l):\n",
    "    line = \"\\t\".join([str(i), str(random.randint(0,9999) % prime), str(random.randint(0,9999) % prime)])\n",
    "    print line\n",
    "    f_out.write(line+\"\\n\")"
   ]
  },
  {
   "cell_type": "code",
   "execution_count": null,
   "metadata": {
    "collapsed": true
   },
   "outputs": [],
   "source": []
  },
  {
   "cell_type": "code",
   "execution_count": null,
   "metadata": {
    "collapsed": true
   },
   "outputs": [],
   "source": []
  }
 ],
 "metadata": {
  "anaconda-cloud": {},
  "kernelspec": {
   "display_name": "Python [conda root]",
   "language": "python",
   "name": "conda-root-py"
  },
  "language_info": {
   "codemirror_mode": {
    "name": "ipython",
    "version": 2
   },
   "file_extension": ".py",
   "mimetype": "text/x-python",
   "name": "python",
   "nbconvert_exporter": "python",
   "pygments_lexer": "ipython2",
   "version": "2.7.12"
  }
 },
 "nbformat": 4,
 "nbformat_minor": 1
}
